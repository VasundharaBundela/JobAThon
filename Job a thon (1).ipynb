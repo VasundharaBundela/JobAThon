{
 "cells": [
  {
   "cell_type": "markdown",
   "metadata": {},
   "source": [
    "# Sales Prediction Model"
   ]
  },
  {
   "cell_type": "raw",
   "metadata": {},
   "source": [
    "Based on the various data provided we need to predict that whether the customer will buy the product in the next 3 months or not.\n",
    "Machine Learning model to predict whether customers will make their next purchase within a certain period or not."
   ]
  },
  {
   "cell_type": "markdown",
   "metadata": {},
   "source": [
    "# Data Dictionary"
   ]
  },
  {
   "cell_type": "raw",
   "metadata": {},
   "source": [
    "Variable\tDescription\n",
    "id\tUnique identifier of a lead\n",
    "created_at\tDate of lead dropped\n",
    "signup_date\tSign up date of the user on the website\n",
    "campaign_var (1 and 2)\tcampaign information of the lead\n",
    "products_purchased\tNo. of past products purchased at the time of dropping the lead\n",
    "user_activity_var (1 to 12)\tDerived activities of the user on the website\n",
    "buy\t0 or 1 indicating if the user will buy the product in next 3 months or not \n"
   ]
  },
  {
   "cell_type": "markdown",
   "metadata": {},
   "source": [
    "# Load necessary libraries"
   ]
  },
  {
   "cell_type": "code",
   "execution_count": 16,
   "metadata": {},
   "outputs": [],
   "source": [
    "import numpy as np   \n",
    "import pandas as pd    \n",
    "import seaborn as sns\n",
    "from sklearn.linear_model import LinearRegression\n",
    "from sklearn import metrics\n",
    "import matplotlib.pyplot as plt   \n",
    "import matplotlib.style"
   ]
  },
  {
   "cell_type": "code",
   "execution_count": 17,
   "metadata": {},
   "outputs": [],
   "source": [
    "dfS_train = pd.read_csv('train.csv')\n",
    "dfS_test = pd.read_csv('test.csv')"
   ]
  },
  {
   "cell_type": "markdown",
   "metadata": {},
   "source": [
    "# EDA"
   ]
  },
  {
   "cell_type": "markdown",
   "metadata": {},
   "source": [
    "## First Five Rows of the datasets"
   ]
  },
  {
   "cell_type": "code",
   "execution_count": 18,
   "metadata": {
    "colab": {
     "base_uri": "https://localhost:8080/",
     "height": 392
    },
    "executionInfo": {
     "elapsed": 27,
     "status": "ok",
     "timestamp": 1653234241603,
     "user": {
      "displayName": "vasundhara bundela",
      "userId": "15799189428647516225"
     },
     "user_tz": -330
    },
    "id": "-gLjpSU6kkXv",
    "outputId": "f0c1a22a-6c09-46b5-ba63-2a8b7a77a332"
   },
   "outputs": [
    {
     "data": {
      "text/html": [
       "<div>\n",
       "<style scoped>\n",
       "    .dataframe tbody tr th:only-of-type {\n",
       "        vertical-align: middle;\n",
       "    }\n",
       "\n",
       "    .dataframe tbody tr th {\n",
       "        vertical-align: top;\n",
       "    }\n",
       "\n",
       "    .dataframe thead th {\n",
       "        text-align: right;\n",
       "    }\n",
       "</style>\n",
       "<table border=\"1\" class=\"dataframe\">\n",
       "  <thead>\n",
       "    <tr style=\"text-align: right;\">\n",
       "      <th></th>\n",
       "      <th>id</th>\n",
       "      <th>created_at</th>\n",
       "      <th>campaign_var_1</th>\n",
       "      <th>campaign_var_2</th>\n",
       "      <th>products_purchased</th>\n",
       "      <th>signup_date</th>\n",
       "      <th>user_activity_var_1</th>\n",
       "      <th>user_activity_var_2</th>\n",
       "      <th>user_activity_var_3</th>\n",
       "      <th>user_activity_var_4</th>\n",
       "      <th>user_activity_var_5</th>\n",
       "      <th>user_activity_var_6</th>\n",
       "      <th>user_activity_var_7</th>\n",
       "      <th>user_activity_var_8</th>\n",
       "      <th>user_activity_var_9</th>\n",
       "      <th>user_activity_var_10</th>\n",
       "      <th>user_activity_var_11</th>\n",
       "      <th>user_activity_var_12</th>\n",
       "      <th>buy</th>\n",
       "    </tr>\n",
       "  </thead>\n",
       "  <tbody>\n",
       "    <tr>\n",
       "      <th>0</th>\n",
       "      <td>1</td>\n",
       "      <td>2021-01-01</td>\n",
       "      <td>1</td>\n",
       "      <td>2</td>\n",
       "      <td>2.0</td>\n",
       "      <td>2020-09-24</td>\n",
       "      <td>0</td>\n",
       "      <td>0</td>\n",
       "      <td>0</td>\n",
       "      <td>0</td>\n",
       "      <td>0</td>\n",
       "      <td>0</td>\n",
       "      <td>1</td>\n",
       "      <td>1</td>\n",
       "      <td>0</td>\n",
       "      <td>0</td>\n",
       "      <td>0</td>\n",
       "      <td>0</td>\n",
       "      <td>0</td>\n",
       "    </tr>\n",
       "    <tr>\n",
       "      <th>1</th>\n",
       "      <td>2</td>\n",
       "      <td>2021-01-01</td>\n",
       "      <td>2</td>\n",
       "      <td>1</td>\n",
       "      <td>2.0</td>\n",
       "      <td>2020-09-19</td>\n",
       "      <td>1</td>\n",
       "      <td>0</td>\n",
       "      <td>1</td>\n",
       "      <td>0</td>\n",
       "      <td>0</td>\n",
       "      <td>0</td>\n",
       "      <td>1</td>\n",
       "      <td>0</td>\n",
       "      <td>0</td>\n",
       "      <td>0</td>\n",
       "      <td>0</td>\n",
       "      <td>0</td>\n",
       "      <td>0</td>\n",
       "    </tr>\n",
       "    <tr>\n",
       "      <th>2</th>\n",
       "      <td>3</td>\n",
       "      <td>2021-01-01</td>\n",
       "      <td>9</td>\n",
       "      <td>3</td>\n",
       "      <td>3.0</td>\n",
       "      <td>2021-08-11</td>\n",
       "      <td>1</td>\n",
       "      <td>0</td>\n",
       "      <td>0</td>\n",
       "      <td>0</td>\n",
       "      <td>0</td>\n",
       "      <td>0</td>\n",
       "      <td>0</td>\n",
       "      <td>0</td>\n",
       "      <td>0</td>\n",
       "      <td>0</td>\n",
       "      <td>0</td>\n",
       "      <td>0</td>\n",
       "      <td>0</td>\n",
       "    </tr>\n",
       "    <tr>\n",
       "      <th>3</th>\n",
       "      <td>4</td>\n",
       "      <td>2021-01-01</td>\n",
       "      <td>6</td>\n",
       "      <td>7</td>\n",
       "      <td>2.0</td>\n",
       "      <td>2017-10-04</td>\n",
       "      <td>0</td>\n",
       "      <td>0</td>\n",
       "      <td>0</td>\n",
       "      <td>0</td>\n",
       "      <td>0</td>\n",
       "      <td>0</td>\n",
       "      <td>0</td>\n",
       "      <td>0</td>\n",
       "      <td>0</td>\n",
       "      <td>0</td>\n",
       "      <td>0</td>\n",
       "      <td>0</td>\n",
       "      <td>0</td>\n",
       "    </tr>\n",
       "    <tr>\n",
       "      <th>4</th>\n",
       "      <td>5</td>\n",
       "      <td>2021-01-01</td>\n",
       "      <td>4</td>\n",
       "      <td>6</td>\n",
       "      <td>NaN</td>\n",
       "      <td>2020-06-08</td>\n",
       "      <td>0</td>\n",
       "      <td>0</td>\n",
       "      <td>0</td>\n",
       "      <td>0</td>\n",
       "      <td>0</td>\n",
       "      <td>0</td>\n",
       "      <td>1</td>\n",
       "      <td>0</td>\n",
       "      <td>0</td>\n",
       "      <td>0</td>\n",
       "      <td>1</td>\n",
       "      <td>0</td>\n",
       "      <td>0</td>\n",
       "    </tr>\n",
       "  </tbody>\n",
       "</table>\n",
       "</div>"
      ],
      "text/plain": [
       "   id  created_at  campaign_var_1  campaign_var_2  products_purchased  \\\n",
       "0   1  2021-01-01               1               2                 2.0   \n",
       "1   2  2021-01-01               2               1                 2.0   \n",
       "2   3  2021-01-01               9               3                 3.0   \n",
       "3   4  2021-01-01               6               7                 2.0   \n",
       "4   5  2021-01-01               4               6                 NaN   \n",
       "\n",
       "  signup_date  user_activity_var_1  user_activity_var_2  user_activity_var_3  \\\n",
       "0  2020-09-24                    0                    0                    0   \n",
       "1  2020-09-19                    1                    0                    1   \n",
       "2  2021-08-11                    1                    0                    0   \n",
       "3  2017-10-04                    0                    0                    0   \n",
       "4  2020-06-08                    0                    0                    0   \n",
       "\n",
       "   user_activity_var_4  user_activity_var_5  user_activity_var_6  \\\n",
       "0                    0                    0                    0   \n",
       "1                    0                    0                    0   \n",
       "2                    0                    0                    0   \n",
       "3                    0                    0                    0   \n",
       "4                    0                    0                    0   \n",
       "\n",
       "   user_activity_var_7  user_activity_var_8  user_activity_var_9  \\\n",
       "0                    1                    1                    0   \n",
       "1                    1                    0                    0   \n",
       "2                    0                    0                    0   \n",
       "3                    0                    0                    0   \n",
       "4                    1                    0                    0   \n",
       "\n",
       "   user_activity_var_10  user_activity_var_11  user_activity_var_12  buy  \n",
       "0                     0                     0                     0    0  \n",
       "1                     0                     0                     0    0  \n",
       "2                     0                     0                     0    0  \n",
       "3                     0                     0                     0    0  \n",
       "4                     0                     1                     0    0  "
      ]
     },
     "execution_count": 18,
     "metadata": {},
     "output_type": "execute_result"
    }
   ],
   "source": [
    "pd.set_option('display.max_columns', None)\n",
    "dfS_train.head()"
   ]
  },
  {
   "cell_type": "code",
   "execution_count": 19,
   "metadata": {
    "colab": {
     "base_uri": "https://localhost:8080/",
     "height": 392
    },
    "executionInfo": {
     "elapsed": 24,
     "status": "ok",
     "timestamp": 1653234241605,
     "user": {
      "displayName": "vasundhara bundela",
      "userId": "15799189428647516225"
     },
     "user_tz": -330
    },
    "id": "hLv6r9azkkXw",
    "outputId": "735a4558-9fbf-4e12-c03a-3a5165c95f57"
   },
   "outputs": [
    {
     "data": {
      "text/html": [
       "<div>\n",
       "<style scoped>\n",
       "    .dataframe tbody tr th:only-of-type {\n",
       "        vertical-align: middle;\n",
       "    }\n",
       "\n",
       "    .dataframe tbody tr th {\n",
       "        vertical-align: top;\n",
       "    }\n",
       "\n",
       "    .dataframe thead th {\n",
       "        text-align: right;\n",
       "    }\n",
       "</style>\n",
       "<table border=\"1\" class=\"dataframe\">\n",
       "  <thead>\n",
       "    <tr style=\"text-align: right;\">\n",
       "      <th></th>\n",
       "      <th>id</th>\n",
       "      <th>created_at</th>\n",
       "      <th>campaign_var_1</th>\n",
       "      <th>campaign_var_2</th>\n",
       "      <th>products_purchased</th>\n",
       "      <th>signup_date</th>\n",
       "      <th>user_activity_var_1</th>\n",
       "      <th>user_activity_var_2</th>\n",
       "      <th>user_activity_var_3</th>\n",
       "      <th>user_activity_var_4</th>\n",
       "      <th>user_activity_var_5</th>\n",
       "      <th>user_activity_var_6</th>\n",
       "      <th>user_activity_var_7</th>\n",
       "      <th>user_activity_var_8</th>\n",
       "      <th>user_activity_var_9</th>\n",
       "      <th>user_activity_var_10</th>\n",
       "      <th>user_activity_var_11</th>\n",
       "      <th>user_activity_var_12</th>\n",
       "    </tr>\n",
       "  </thead>\n",
       "  <tbody>\n",
       "    <tr>\n",
       "      <th>0</th>\n",
       "      <td>39162</td>\n",
       "      <td>2022-01-01</td>\n",
       "      <td>2</td>\n",
       "      <td>2</td>\n",
       "      <td>NaN</td>\n",
       "      <td>2021-08-17</td>\n",
       "      <td>1</td>\n",
       "      <td>1</td>\n",
       "      <td>0</td>\n",
       "      <td>0</td>\n",
       "      <td>0</td>\n",
       "      <td>1</td>\n",
       "      <td>0</td>\n",
       "      <td>0</td>\n",
       "      <td>0</td>\n",
       "      <td>0</td>\n",
       "      <td>1</td>\n",
       "      <td>0</td>\n",
       "    </tr>\n",
       "    <tr>\n",
       "      <th>1</th>\n",
       "      <td>39163</td>\n",
       "      <td>2022-01-01</td>\n",
       "      <td>4</td>\n",
       "      <td>7</td>\n",
       "      <td>3.0</td>\n",
       "      <td>2020-05-21</td>\n",
       "      <td>1</td>\n",
       "      <td>0</td>\n",
       "      <td>0</td>\n",
       "      <td>0</td>\n",
       "      <td>0</td>\n",
       "      <td>0</td>\n",
       "      <td>0</td>\n",
       "      <td>1</td>\n",
       "      <td>0</td>\n",
       "      <td>0</td>\n",
       "      <td>0</td>\n",
       "      <td>0</td>\n",
       "    </tr>\n",
       "    <tr>\n",
       "      <th>2</th>\n",
       "      <td>39164</td>\n",
       "      <td>2022-01-01</td>\n",
       "      <td>8</td>\n",
       "      <td>7</td>\n",
       "      <td>NaN</td>\n",
       "      <td>NaN</td>\n",
       "      <td>0</td>\n",
       "      <td>0</td>\n",
       "      <td>0</td>\n",
       "      <td>0</td>\n",
       "      <td>1</td>\n",
       "      <td>1</td>\n",
       "      <td>0</td>\n",
       "      <td>0</td>\n",
       "      <td>0</td>\n",
       "      <td>0</td>\n",
       "      <td>0</td>\n",
       "      <td>0</td>\n",
       "    </tr>\n",
       "    <tr>\n",
       "      <th>3</th>\n",
       "      <td>39165</td>\n",
       "      <td>2022-01-01</td>\n",
       "      <td>9</td>\n",
       "      <td>8</td>\n",
       "      <td>2.0</td>\n",
       "      <td>2020-06-22</td>\n",
       "      <td>0</td>\n",
       "      <td>0</td>\n",
       "      <td>0</td>\n",
       "      <td>0</td>\n",
       "      <td>1</td>\n",
       "      <td>1</td>\n",
       "      <td>1</td>\n",
       "      <td>0</td>\n",
       "      <td>0</td>\n",
       "      <td>0</td>\n",
       "      <td>2</td>\n",
       "      <td>0</td>\n",
       "    </tr>\n",
       "    <tr>\n",
       "      <th>4</th>\n",
       "      <td>39166</td>\n",
       "      <td>2022-01-01</td>\n",
       "      <td>4</td>\n",
       "      <td>5</td>\n",
       "      <td>2.0</td>\n",
       "      <td>2021-03-10</td>\n",
       "      <td>1</td>\n",
       "      <td>0</td>\n",
       "      <td>0</td>\n",
       "      <td>0</td>\n",
       "      <td>0</td>\n",
       "      <td>0</td>\n",
       "      <td>0</td>\n",
       "      <td>0</td>\n",
       "      <td>0</td>\n",
       "      <td>0</td>\n",
       "      <td>0</td>\n",
       "      <td>0</td>\n",
       "    </tr>\n",
       "  </tbody>\n",
       "</table>\n",
       "</div>"
      ],
      "text/plain": [
       "      id  created_at  campaign_var_1  campaign_var_2  products_purchased  \\\n",
       "0  39162  2022-01-01               2               2                 NaN   \n",
       "1  39163  2022-01-01               4               7                 3.0   \n",
       "2  39164  2022-01-01               8               7                 NaN   \n",
       "3  39165  2022-01-01               9               8                 2.0   \n",
       "4  39166  2022-01-01               4               5                 2.0   \n",
       "\n",
       "  signup_date  user_activity_var_1  user_activity_var_2  user_activity_var_3  \\\n",
       "0  2021-08-17                    1                    1                    0   \n",
       "1  2020-05-21                    1                    0                    0   \n",
       "2         NaN                    0                    0                    0   \n",
       "3  2020-06-22                    0                    0                    0   \n",
       "4  2021-03-10                    1                    0                    0   \n",
       "\n",
       "   user_activity_var_4  user_activity_var_5  user_activity_var_6  \\\n",
       "0                    0                    0                    1   \n",
       "1                    0                    0                    0   \n",
       "2                    0                    1                    1   \n",
       "3                    0                    1                    1   \n",
       "4                    0                    0                    0   \n",
       "\n",
       "   user_activity_var_7  user_activity_var_8  user_activity_var_9  \\\n",
       "0                    0                    0                    0   \n",
       "1                    0                    1                    0   \n",
       "2                    0                    0                    0   \n",
       "3                    1                    0                    0   \n",
       "4                    0                    0                    0   \n",
       "\n",
       "   user_activity_var_10  user_activity_var_11  user_activity_var_12  \n",
       "0                     0                     1                     0  \n",
       "1                     0                     0                     0  \n",
       "2                     0                     0                     0  \n",
       "3                     0                     2                     0  \n",
       "4                     0                     0                     0  "
      ]
     },
     "execution_count": 19,
     "metadata": {},
     "output_type": "execute_result"
    }
   ],
   "source": [
    "pd.set_option('display.max_columns', None)\n",
    "dfS_test.head()"
   ]
  },
  {
   "cell_type": "markdown",
   "metadata": {},
   "source": [
    "## Info"
   ]
  },
  {
   "cell_type": "code",
   "execution_count": 20,
   "metadata": {
    "colab": {
     "base_uri": "https://localhost:8080/"
    },
    "executionInfo": {
     "elapsed": 1319,
     "status": "ok",
     "timestamp": 1653234242902,
     "user": {
      "displayName": "vasundhara bundela",
      "userId": "15799189428647516225"
     },
     "user_tz": -330
    },
    "id": "TSfZX0lBkkXx",
    "outputId": "a7e0834f-9af4-4c8a-a528-2c52c2414a00"
   },
   "outputs": [
    {
     "name": "stdout",
     "output_type": "stream",
     "text": [
      "<class 'pandas.core.frame.DataFrame'>\n",
      "RangeIndex: 39161 entries, 0 to 39160\n",
      "Data columns (total 19 columns):\n",
      " #   Column                Non-Null Count  Dtype  \n",
      "---  ------                --------------  -----  \n",
      " 0   id                    39161 non-null  int64  \n",
      " 1   created_at            39161 non-null  object \n",
      " 2   campaign_var_1        39161 non-null  int64  \n",
      " 3   campaign_var_2        39161 non-null  int64  \n",
      " 4   products_purchased    18250 non-null  float64\n",
      " 5   signup_date           24048 non-null  object \n",
      " 6   user_activity_var_1   39161 non-null  int64  \n",
      " 7   user_activity_var_2   39161 non-null  int64  \n",
      " 8   user_activity_var_3   39161 non-null  int64  \n",
      " 9   user_activity_var_4   39161 non-null  int64  \n",
      " 10  user_activity_var_5   39161 non-null  int64  \n",
      " 11  user_activity_var_6   39161 non-null  int64  \n",
      " 12  user_activity_var_7   39161 non-null  int64  \n",
      " 13  user_activity_var_8   39161 non-null  int64  \n",
      " 14  user_activity_var_9   39161 non-null  int64  \n",
      " 15  user_activity_var_10  39161 non-null  int64  \n",
      " 16  user_activity_var_11  39161 non-null  int64  \n",
      " 17  user_activity_var_12  39161 non-null  int64  \n",
      " 18  buy                   39161 non-null  int64  \n",
      "dtypes: float64(1), int64(16), object(2)\n",
      "memory usage: 5.4+ MB\n"
     ]
    }
   ],
   "source": [
    "dfS_train.info()"
   ]
  },
  {
   "cell_type": "code",
   "execution_count": 21,
   "metadata": {
    "colab": {
     "base_uri": "https://localhost:8080/"
    },
    "executionInfo": {
     "elapsed": 50,
     "status": "ok",
     "timestamp": 1653234242907,
     "user": {
      "displayName": "vasundhara bundela",
      "userId": "15799189428647516225"
     },
     "user_tz": -330
    },
    "id": "1rTCd4dIkkXy",
    "outputId": "560dc557-df3d-46ce-9b39-9efa4e290822"
   },
   "outputs": [
    {
     "name": "stdout",
     "output_type": "stream",
     "text": [
      "<class 'pandas.core.frame.DataFrame'>\n",
      "RangeIndex: 13184 entries, 0 to 13183\n",
      "Data columns (total 18 columns):\n",
      " #   Column                Non-Null Count  Dtype  \n",
      "---  ------                --------------  -----  \n",
      " 0   id                    13184 non-null  int64  \n",
      " 1   created_at            13184 non-null  object \n",
      " 2   campaign_var_1        13184 non-null  int64  \n",
      " 3   campaign_var_2        13184 non-null  int64  \n",
      " 4   products_purchased    5048 non-null   float64\n",
      " 5   signup_date           6535 non-null   object \n",
      " 6   user_activity_var_1   13184 non-null  int64  \n",
      " 7   user_activity_var_2   13184 non-null  int64  \n",
      " 8   user_activity_var_3   13184 non-null  int64  \n",
      " 9   user_activity_var_4   13184 non-null  int64  \n",
      " 10  user_activity_var_5   13184 non-null  int64  \n",
      " 11  user_activity_var_6   13184 non-null  int64  \n",
      " 12  user_activity_var_7   13184 non-null  int64  \n",
      " 13  user_activity_var_8   13184 non-null  int64  \n",
      " 14  user_activity_var_9   13184 non-null  int64  \n",
      " 15  user_activity_var_10  13184 non-null  int64  \n",
      " 16  user_activity_var_11  13184 non-null  int64  \n",
      " 17  user_activity_var_12  13184 non-null  int64  \n",
      "dtypes: float64(1), int64(15), object(2)\n",
      "memory usage: 1.7+ MB\n"
     ]
    }
   ],
   "source": [
    "dfS_test.info()"
   ]
  },
  {
   "cell_type": "markdown",
   "metadata": {},
   "source": [
    "## Checking Null Values"
   ]
  },
  {
   "cell_type": "code",
   "execution_count": 22,
   "metadata": {
    "colab": {
     "base_uri": "https://localhost:8080/"
    },
    "executionInfo": {
     "elapsed": 46,
     "status": "ok",
     "timestamp": 1653234242909,
     "user": {
      "displayName": "vasundhara bundela",
      "userId": "15799189428647516225"
     },
     "user_tz": -330
    },
    "id": "zl5mEbmUkkXz",
    "outputId": "06d104ab-4e67-4ded-e8c5-8a161939e5d3"
   },
   "outputs": [
    {
     "data": {
      "text/plain": [
       "products_purchased    20911\n",
       "signup_date           15113\n",
       "dtype: int64"
      ]
     },
     "execution_count": 22,
     "metadata": {},
     "output_type": "execute_result"
    }
   ],
   "source": [
    "dfS_train.isnull().sum()[dfS_train.isnull().sum()>0]"
   ]
  },
  {
   "cell_type": "code",
   "execution_count": 23,
   "metadata": {
    "colab": {
     "base_uri": "https://localhost:8080/"
    },
    "executionInfo": {
     "elapsed": 47,
     "status": "ok",
     "timestamp": 1653234242912,
     "user": {
      "displayName": "vasundhara bundela",
      "userId": "15799189428647516225"
     },
     "user_tz": -330
    },
    "id": "n1FAkd29kkX0",
    "outputId": "5d1ea40f-0069-46d1-aee4-054fd32f1d6d"
   },
   "outputs": [
    {
     "data": {
      "text/plain": [
       "products_purchased    8136\n",
       "signup_date           6649\n",
       "dtype: int64"
      ]
     },
     "execution_count": 23,
     "metadata": {},
     "output_type": "execute_result"
    }
   ],
   "source": [
    "dfS_test.isnull().sum()[dfS_test.isnull().sum()>0]"
   ]
  },
  {
   "cell_type": "markdown",
   "metadata": {},
   "source": [
    "## Summary of the data"
   ]
  },
  {
   "cell_type": "code",
   "execution_count": 24,
   "metadata": {
    "colab": {
     "base_uri": "https://localhost:8080/",
     "height": 493
    },
    "executionInfo": {
     "elapsed": 48,
     "status": "ok",
     "timestamp": 1653234242916,
     "user": {
      "displayName": "vasundhara bundela",
      "userId": "15799189428647516225"
     },
     "user_tz": -330
    },
    "id": "dEx_AopXkkX1",
    "outputId": "fa7a395e-bbcf-46d4-b272-070820d5a1dc"
   },
   "outputs": [
    {
     "data": {
      "text/html": [
       "<div>\n",
       "<style scoped>\n",
       "    .dataframe tbody tr th:only-of-type {\n",
       "        vertical-align: middle;\n",
       "    }\n",
       "\n",
       "    .dataframe tbody tr th {\n",
       "        vertical-align: top;\n",
       "    }\n",
       "\n",
       "    .dataframe thead th {\n",
       "        text-align: right;\n",
       "    }\n",
       "</style>\n",
       "<table border=\"1\" class=\"dataframe\">\n",
       "  <thead>\n",
       "    <tr style=\"text-align: right;\">\n",
       "      <th></th>\n",
       "      <th>id</th>\n",
       "      <th>created_at</th>\n",
       "      <th>campaign_var_1</th>\n",
       "      <th>campaign_var_2</th>\n",
       "      <th>products_purchased</th>\n",
       "      <th>signup_date</th>\n",
       "      <th>user_activity_var_1</th>\n",
       "      <th>user_activity_var_2</th>\n",
       "      <th>user_activity_var_3</th>\n",
       "      <th>user_activity_var_4</th>\n",
       "      <th>user_activity_var_5</th>\n",
       "      <th>user_activity_var_6</th>\n",
       "      <th>user_activity_var_7</th>\n",
       "      <th>user_activity_var_8</th>\n",
       "      <th>user_activity_var_9</th>\n",
       "      <th>user_activity_var_10</th>\n",
       "      <th>user_activity_var_11</th>\n",
       "      <th>user_activity_var_12</th>\n",
       "      <th>buy</th>\n",
       "    </tr>\n",
       "  </thead>\n",
       "  <tbody>\n",
       "    <tr>\n",
       "      <th>count</th>\n",
       "      <td>39161.000000</td>\n",
       "      <td>39161</td>\n",
       "      <td>39161.000000</td>\n",
       "      <td>39161.000000</td>\n",
       "      <td>18250.000000</td>\n",
       "      <td>24048</td>\n",
       "      <td>39161.000000</td>\n",
       "      <td>39161.000000</td>\n",
       "      <td>39161.000000</td>\n",
       "      <td>39161.000000</td>\n",
       "      <td>39161.000000</td>\n",
       "      <td>39161.000000</td>\n",
       "      <td>39161.000000</td>\n",
       "      <td>39161.000000</td>\n",
       "      <td>39161.000000</td>\n",
       "      <td>39161.000000</td>\n",
       "      <td>39161.000000</td>\n",
       "      <td>39161.000000</td>\n",
       "      <td>39161.000000</td>\n",
       "    </tr>\n",
       "    <tr>\n",
       "      <th>unique</th>\n",
       "      <td>NaN</td>\n",
       "      <td>365</td>\n",
       "      <td>NaN</td>\n",
       "      <td>NaN</td>\n",
       "      <td>NaN</td>\n",
       "      <td>1800</td>\n",
       "      <td>NaN</td>\n",
       "      <td>NaN</td>\n",
       "      <td>NaN</td>\n",
       "      <td>NaN</td>\n",
       "      <td>NaN</td>\n",
       "      <td>NaN</td>\n",
       "      <td>NaN</td>\n",
       "      <td>NaN</td>\n",
       "      <td>NaN</td>\n",
       "      <td>NaN</td>\n",
       "      <td>NaN</td>\n",
       "      <td>NaN</td>\n",
       "      <td>NaN</td>\n",
       "    </tr>\n",
       "    <tr>\n",
       "      <th>top</th>\n",
       "      <td>NaN</td>\n",
       "      <td>2021-12-26</td>\n",
       "      <td>NaN</td>\n",
       "      <td>NaN</td>\n",
       "      <td>NaN</td>\n",
       "      <td>2021-07-18</td>\n",
       "      <td>NaN</td>\n",
       "      <td>NaN</td>\n",
       "      <td>NaN</td>\n",
       "      <td>NaN</td>\n",
       "      <td>NaN</td>\n",
       "      <td>NaN</td>\n",
       "      <td>NaN</td>\n",
       "      <td>NaN</td>\n",
       "      <td>NaN</td>\n",
       "      <td>NaN</td>\n",
       "      <td>NaN</td>\n",
       "      <td>NaN</td>\n",
       "      <td>NaN</td>\n",
       "    </tr>\n",
       "    <tr>\n",
       "      <th>freq</th>\n",
       "      <td>NaN</td>\n",
       "      <td>181</td>\n",
       "      <td>NaN</td>\n",
       "      <td>NaN</td>\n",
       "      <td>NaN</td>\n",
       "      <td>45</td>\n",
       "      <td>NaN</td>\n",
       "      <td>NaN</td>\n",
       "      <td>NaN</td>\n",
       "      <td>NaN</td>\n",
       "      <td>NaN</td>\n",
       "      <td>NaN</td>\n",
       "      <td>NaN</td>\n",
       "      <td>NaN</td>\n",
       "      <td>NaN</td>\n",
       "      <td>NaN</td>\n",
       "      <td>NaN</td>\n",
       "      <td>NaN</td>\n",
       "      <td>NaN</td>\n",
       "    </tr>\n",
       "    <tr>\n",
       "      <th>mean</th>\n",
       "      <td>19581.000000</td>\n",
       "      <td>NaN</td>\n",
       "      <td>6.523812</td>\n",
       "      <td>6.452746</td>\n",
       "      <td>2.154137</td>\n",
       "      <td>NaN</td>\n",
       "      <td>0.400092</td>\n",
       "      <td>0.006716</td>\n",
       "      <td>0.102832</td>\n",
       "      <td>0.011465</td>\n",
       "      <td>0.151503</td>\n",
       "      <td>0.499834</td>\n",
       "      <td>0.286612</td>\n",
       "      <td>0.174434</td>\n",
       "      <td>0.011440</td>\n",
       "      <td>0.000383</td>\n",
       "      <td>0.218942</td>\n",
       "      <td>0.000562</td>\n",
       "      <td>0.051020</td>\n",
       "    </tr>\n",
       "    <tr>\n",
       "      <th>std</th>\n",
       "      <td>11304.951283</td>\n",
       "      <td>NaN</td>\n",
       "      <td>3.472944</td>\n",
       "      <td>2.614296</td>\n",
       "      <td>0.779815</td>\n",
       "      <td>NaN</td>\n",
       "      <td>0.509194</td>\n",
       "      <td>0.081676</td>\n",
       "      <td>0.303743</td>\n",
       "      <td>0.106463</td>\n",
       "      <td>0.359681</td>\n",
       "      <td>0.558166</td>\n",
       "      <td>0.455784</td>\n",
       "      <td>0.379689</td>\n",
       "      <td>0.106346</td>\n",
       "      <td>0.019568</td>\n",
       "      <td>0.431544</td>\n",
       "      <td>0.023696</td>\n",
       "      <td>0.220042</td>\n",
       "    </tr>\n",
       "    <tr>\n",
       "      <th>min</th>\n",
       "      <td>1.000000</td>\n",
       "      <td>NaN</td>\n",
       "      <td>1.000000</td>\n",
       "      <td>1.000000</td>\n",
       "      <td>1.000000</td>\n",
       "      <td>NaN</td>\n",
       "      <td>0.000000</td>\n",
       "      <td>0.000000</td>\n",
       "      <td>0.000000</td>\n",
       "      <td>0.000000</td>\n",
       "      <td>0.000000</td>\n",
       "      <td>0.000000</td>\n",
       "      <td>0.000000</td>\n",
       "      <td>0.000000</td>\n",
       "      <td>0.000000</td>\n",
       "      <td>0.000000</td>\n",
       "      <td>0.000000</td>\n",
       "      <td>0.000000</td>\n",
       "      <td>0.000000</td>\n",
       "    </tr>\n",
       "    <tr>\n",
       "      <th>25%</th>\n",
       "      <td>9791.000000</td>\n",
       "      <td>NaN</td>\n",
       "      <td>4.000000</td>\n",
       "      <td>5.000000</td>\n",
       "      <td>2.000000</td>\n",
       "      <td>NaN</td>\n",
       "      <td>0.000000</td>\n",
       "      <td>0.000000</td>\n",
       "      <td>0.000000</td>\n",
       "      <td>0.000000</td>\n",
       "      <td>0.000000</td>\n",
       "      <td>0.000000</td>\n",
       "      <td>0.000000</td>\n",
       "      <td>0.000000</td>\n",
       "      <td>0.000000</td>\n",
       "      <td>0.000000</td>\n",
       "      <td>0.000000</td>\n",
       "      <td>0.000000</td>\n",
       "      <td>0.000000</td>\n",
       "    </tr>\n",
       "    <tr>\n",
       "      <th>50%</th>\n",
       "      <td>19581.000000</td>\n",
       "      <td>NaN</td>\n",
       "      <td>6.000000</td>\n",
       "      <td>6.000000</td>\n",
       "      <td>2.000000</td>\n",
       "      <td>NaN</td>\n",
       "      <td>0.000000</td>\n",
       "      <td>0.000000</td>\n",
       "      <td>0.000000</td>\n",
       "      <td>0.000000</td>\n",
       "      <td>0.000000</td>\n",
       "      <td>0.000000</td>\n",
       "      <td>0.000000</td>\n",
       "      <td>0.000000</td>\n",
       "      <td>0.000000</td>\n",
       "      <td>0.000000</td>\n",
       "      <td>0.000000</td>\n",
       "      <td>0.000000</td>\n",
       "      <td>0.000000</td>\n",
       "    </tr>\n",
       "    <tr>\n",
       "      <th>75%</th>\n",
       "      <td>29371.000000</td>\n",
       "      <td>NaN</td>\n",
       "      <td>9.000000</td>\n",
       "      <td>8.000000</td>\n",
       "      <td>3.000000</td>\n",
       "      <td>NaN</td>\n",
       "      <td>1.000000</td>\n",
       "      <td>0.000000</td>\n",
       "      <td>0.000000</td>\n",
       "      <td>0.000000</td>\n",
       "      <td>0.000000</td>\n",
       "      <td>1.000000</td>\n",
       "      <td>1.000000</td>\n",
       "      <td>0.000000</td>\n",
       "      <td>0.000000</td>\n",
       "      <td>0.000000</td>\n",
       "      <td>0.000000</td>\n",
       "      <td>0.000000</td>\n",
       "      <td>0.000000</td>\n",
       "    </tr>\n",
       "    <tr>\n",
       "      <th>max</th>\n",
       "      <td>39161.000000</td>\n",
       "      <td>NaN</td>\n",
       "      <td>16.000000</td>\n",
       "      <td>15.000000</td>\n",
       "      <td>4.000000</td>\n",
       "      <td>NaN</td>\n",
       "      <td>3.000000</td>\n",
       "      <td>1.000000</td>\n",
       "      <td>1.000000</td>\n",
       "      <td>1.000000</td>\n",
       "      <td>2.000000</td>\n",
       "      <td>3.000000</td>\n",
       "      <td>2.000000</td>\n",
       "      <td>2.000000</td>\n",
       "      <td>1.000000</td>\n",
       "      <td>1.000000</td>\n",
       "      <td>4.000000</td>\n",
       "      <td>1.000000</td>\n",
       "      <td>1.000000</td>\n",
       "    </tr>\n",
       "  </tbody>\n",
       "</table>\n",
       "</div>"
      ],
      "text/plain": [
       "                  id  created_at  campaign_var_1  campaign_var_2  \\\n",
       "count   39161.000000       39161    39161.000000    39161.000000   \n",
       "unique           NaN         365             NaN             NaN   \n",
       "top              NaN  2021-12-26             NaN             NaN   \n",
       "freq             NaN         181             NaN             NaN   \n",
       "mean    19581.000000         NaN        6.523812        6.452746   \n",
       "std     11304.951283         NaN        3.472944        2.614296   \n",
       "min         1.000000         NaN        1.000000        1.000000   \n",
       "25%      9791.000000         NaN        4.000000        5.000000   \n",
       "50%     19581.000000         NaN        6.000000        6.000000   \n",
       "75%     29371.000000         NaN        9.000000        8.000000   \n",
       "max     39161.000000         NaN       16.000000       15.000000   \n",
       "\n",
       "        products_purchased signup_date  user_activity_var_1  \\\n",
       "count         18250.000000       24048         39161.000000   \n",
       "unique                 NaN        1800                  NaN   \n",
       "top                    NaN  2021-07-18                  NaN   \n",
       "freq                   NaN          45                  NaN   \n",
       "mean              2.154137         NaN             0.400092   \n",
       "std               0.779815         NaN             0.509194   \n",
       "min               1.000000         NaN             0.000000   \n",
       "25%               2.000000         NaN             0.000000   \n",
       "50%               2.000000         NaN             0.000000   \n",
       "75%               3.000000         NaN             1.000000   \n",
       "max               4.000000         NaN             3.000000   \n",
       "\n",
       "        user_activity_var_2  user_activity_var_3  user_activity_var_4  \\\n",
       "count          39161.000000         39161.000000         39161.000000   \n",
       "unique                  NaN                  NaN                  NaN   \n",
       "top                     NaN                  NaN                  NaN   \n",
       "freq                    NaN                  NaN                  NaN   \n",
       "mean               0.006716             0.102832             0.011465   \n",
       "std                0.081676             0.303743             0.106463   \n",
       "min                0.000000             0.000000             0.000000   \n",
       "25%                0.000000             0.000000             0.000000   \n",
       "50%                0.000000             0.000000             0.000000   \n",
       "75%                0.000000             0.000000             0.000000   \n",
       "max                1.000000             1.000000             1.000000   \n",
       "\n",
       "        user_activity_var_5  user_activity_var_6  user_activity_var_7  \\\n",
       "count          39161.000000         39161.000000         39161.000000   \n",
       "unique                  NaN                  NaN                  NaN   \n",
       "top                     NaN                  NaN                  NaN   \n",
       "freq                    NaN                  NaN                  NaN   \n",
       "mean               0.151503             0.499834             0.286612   \n",
       "std                0.359681             0.558166             0.455784   \n",
       "min                0.000000             0.000000             0.000000   \n",
       "25%                0.000000             0.000000             0.000000   \n",
       "50%                0.000000             0.000000             0.000000   \n",
       "75%                0.000000             1.000000             1.000000   \n",
       "max                2.000000             3.000000             2.000000   \n",
       "\n",
       "        user_activity_var_8  user_activity_var_9  user_activity_var_10  \\\n",
       "count          39161.000000         39161.000000          39161.000000   \n",
       "unique                  NaN                  NaN                   NaN   \n",
       "top                     NaN                  NaN                   NaN   \n",
       "freq                    NaN                  NaN                   NaN   \n",
       "mean               0.174434             0.011440              0.000383   \n",
       "std                0.379689             0.106346              0.019568   \n",
       "min                0.000000             0.000000              0.000000   \n",
       "25%                0.000000             0.000000              0.000000   \n",
       "50%                0.000000             0.000000              0.000000   \n",
       "75%                0.000000             0.000000              0.000000   \n",
       "max                2.000000             1.000000              1.000000   \n",
       "\n",
       "        user_activity_var_11  user_activity_var_12           buy  \n",
       "count           39161.000000          39161.000000  39161.000000  \n",
       "unique                   NaN                   NaN           NaN  \n",
       "top                      NaN                   NaN           NaN  \n",
       "freq                     NaN                   NaN           NaN  \n",
       "mean                0.218942              0.000562      0.051020  \n",
       "std                 0.431544              0.023696      0.220042  \n",
       "min                 0.000000              0.000000      0.000000  \n",
       "25%                 0.000000              0.000000      0.000000  \n",
       "50%                 0.000000              0.000000      0.000000  \n",
       "75%                 0.000000              0.000000      0.000000  \n",
       "max                 4.000000              1.000000      1.000000  "
      ]
     },
     "execution_count": 24,
     "metadata": {},
     "output_type": "execute_result"
    }
   ],
   "source": [
    "pd.set_option('display.max_columns', None)\n",
    "dfS_train.describe(include = \"all\")"
   ]
  },
  {
   "cell_type": "code",
   "execution_count": 25,
   "metadata": {
    "colab": {
     "base_uri": "https://localhost:8080/",
     "height": 493
    },
    "executionInfo": {
     "elapsed": 46,
     "status": "ok",
     "timestamp": 1653234242918,
     "user": {
      "displayName": "vasundhara bundela",
      "userId": "15799189428647516225"
     },
     "user_tz": -330
    },
    "id": "_a6qcPshkkX2",
    "outputId": "0362d4de-f22c-4d94-ef6c-9464e6163290",
    "scrolled": true
   },
   "outputs": [
    {
     "data": {
      "text/html": [
       "<div>\n",
       "<style scoped>\n",
       "    .dataframe tbody tr th:only-of-type {\n",
       "        vertical-align: middle;\n",
       "    }\n",
       "\n",
       "    .dataframe tbody tr th {\n",
       "        vertical-align: top;\n",
       "    }\n",
       "\n",
       "    .dataframe thead th {\n",
       "        text-align: right;\n",
       "    }\n",
       "</style>\n",
       "<table border=\"1\" class=\"dataframe\">\n",
       "  <thead>\n",
       "    <tr style=\"text-align: right;\">\n",
       "      <th></th>\n",
       "      <th>id</th>\n",
       "      <th>created_at</th>\n",
       "      <th>campaign_var_1</th>\n",
       "      <th>campaign_var_2</th>\n",
       "      <th>products_purchased</th>\n",
       "      <th>signup_date</th>\n",
       "      <th>user_activity_var_1</th>\n",
       "      <th>user_activity_var_2</th>\n",
       "      <th>user_activity_var_3</th>\n",
       "      <th>user_activity_var_4</th>\n",
       "      <th>user_activity_var_5</th>\n",
       "      <th>user_activity_var_6</th>\n",
       "      <th>user_activity_var_7</th>\n",
       "      <th>user_activity_var_8</th>\n",
       "      <th>user_activity_var_9</th>\n",
       "      <th>user_activity_var_10</th>\n",
       "      <th>user_activity_var_11</th>\n",
       "      <th>user_activity_var_12</th>\n",
       "    </tr>\n",
       "  </thead>\n",
       "  <tbody>\n",
       "    <tr>\n",
       "      <th>count</th>\n",
       "      <td>13184.000000</td>\n",
       "      <td>13184</td>\n",
       "      <td>13184.000000</td>\n",
       "      <td>13184.000000</td>\n",
       "      <td>5048.000000</td>\n",
       "      <td>6535</td>\n",
       "      <td>13184.000000</td>\n",
       "      <td>13184.000000</td>\n",
       "      <td>13184.000000</td>\n",
       "      <td>13184.00000</td>\n",
       "      <td>13184.000000</td>\n",
       "      <td>13184.000000</td>\n",
       "      <td>13184.000000</td>\n",
       "      <td>13184.000000</td>\n",
       "      <td>13184.000000</td>\n",
       "      <td>13184.000000</td>\n",
       "      <td>13184.000000</td>\n",
       "      <td>13184.000000</td>\n",
       "    </tr>\n",
       "    <tr>\n",
       "      <th>unique</th>\n",
       "      <td>NaN</td>\n",
       "      <td>89</td>\n",
       "      <td>NaN</td>\n",
       "      <td>NaN</td>\n",
       "      <td>NaN</td>\n",
       "      <td>1257</td>\n",
       "      <td>NaN</td>\n",
       "      <td>NaN</td>\n",
       "      <td>NaN</td>\n",
       "      <td>NaN</td>\n",
       "      <td>NaN</td>\n",
       "      <td>NaN</td>\n",
       "      <td>NaN</td>\n",
       "      <td>NaN</td>\n",
       "      <td>NaN</td>\n",
       "      <td>NaN</td>\n",
       "      <td>NaN</td>\n",
       "      <td>NaN</td>\n",
       "    </tr>\n",
       "    <tr>\n",
       "      <th>top</th>\n",
       "      <td>NaN</td>\n",
       "      <td>2022-01-23</td>\n",
       "      <td>NaN</td>\n",
       "      <td>NaN</td>\n",
       "      <td>NaN</td>\n",
       "      <td>2022-03-06</td>\n",
       "      <td>NaN</td>\n",
       "      <td>NaN</td>\n",
       "      <td>NaN</td>\n",
       "      <td>NaN</td>\n",
       "      <td>NaN</td>\n",
       "      <td>NaN</td>\n",
       "      <td>NaN</td>\n",
       "      <td>NaN</td>\n",
       "      <td>NaN</td>\n",
       "      <td>NaN</td>\n",
       "      <td>NaN</td>\n",
       "      <td>NaN</td>\n",
       "    </tr>\n",
       "    <tr>\n",
       "      <th>freq</th>\n",
       "      <td>NaN</td>\n",
       "      <td>176</td>\n",
       "      <td>NaN</td>\n",
       "      <td>NaN</td>\n",
       "      <td>NaN</td>\n",
       "      <td>24</td>\n",
       "      <td>NaN</td>\n",
       "      <td>NaN</td>\n",
       "      <td>NaN</td>\n",
       "      <td>NaN</td>\n",
       "      <td>NaN</td>\n",
       "      <td>NaN</td>\n",
       "      <td>NaN</td>\n",
       "      <td>NaN</td>\n",
       "      <td>NaN</td>\n",
       "      <td>NaN</td>\n",
       "      <td>NaN</td>\n",
       "      <td>NaN</td>\n",
       "    </tr>\n",
       "    <tr>\n",
       "      <th>mean</th>\n",
       "      <td>45753.500000</td>\n",
       "      <td>NaN</td>\n",
       "      <td>7.724439</td>\n",
       "      <td>7.943416</td>\n",
       "      <td>2.108954</td>\n",
       "      <td>NaN</td>\n",
       "      <td>0.386681</td>\n",
       "      <td>0.004248</td>\n",
       "      <td>0.103307</td>\n",
       "      <td>0.00713</td>\n",
       "      <td>0.153064</td>\n",
       "      <td>0.525485</td>\n",
       "      <td>0.304460</td>\n",
       "      <td>0.142673</td>\n",
       "      <td>0.008419</td>\n",
       "      <td>0.000228</td>\n",
       "      <td>0.253413</td>\n",
       "      <td>0.000228</td>\n",
       "    </tr>\n",
       "    <tr>\n",
       "      <th>std</th>\n",
       "      <td>3806.037309</td>\n",
       "      <td>NaN</td>\n",
       "      <td>3.599981</td>\n",
       "      <td>2.687832</td>\n",
       "      <td>0.783483</td>\n",
       "      <td>NaN</td>\n",
       "      <td>0.505653</td>\n",
       "      <td>0.065037</td>\n",
       "      <td>0.304371</td>\n",
       "      <td>0.08414</td>\n",
       "      <td>0.360695</td>\n",
       "      <td>0.565208</td>\n",
       "      <td>0.462989</td>\n",
       "      <td>0.349969</td>\n",
       "      <td>0.092200</td>\n",
       "      <td>0.015084</td>\n",
       "      <td>0.462698</td>\n",
       "      <td>0.015084</td>\n",
       "    </tr>\n",
       "    <tr>\n",
       "      <th>min</th>\n",
       "      <td>39162.000000</td>\n",
       "      <td>NaN</td>\n",
       "      <td>1.000000</td>\n",
       "      <td>1.000000</td>\n",
       "      <td>1.000000</td>\n",
       "      <td>NaN</td>\n",
       "      <td>0.000000</td>\n",
       "      <td>0.000000</td>\n",
       "      <td>0.000000</td>\n",
       "      <td>0.00000</td>\n",
       "      <td>0.000000</td>\n",
       "      <td>0.000000</td>\n",
       "      <td>0.000000</td>\n",
       "      <td>0.000000</td>\n",
       "      <td>0.000000</td>\n",
       "      <td>0.000000</td>\n",
       "      <td>0.000000</td>\n",
       "      <td>0.000000</td>\n",
       "    </tr>\n",
       "    <tr>\n",
       "      <th>25%</th>\n",
       "      <td>42457.750000</td>\n",
       "      <td>NaN</td>\n",
       "      <td>5.000000</td>\n",
       "      <td>6.000000</td>\n",
       "      <td>2.000000</td>\n",
       "      <td>NaN</td>\n",
       "      <td>0.000000</td>\n",
       "      <td>0.000000</td>\n",
       "      <td>0.000000</td>\n",
       "      <td>0.00000</td>\n",
       "      <td>0.000000</td>\n",
       "      <td>0.000000</td>\n",
       "      <td>0.000000</td>\n",
       "      <td>0.000000</td>\n",
       "      <td>0.000000</td>\n",
       "      <td>0.000000</td>\n",
       "      <td>0.000000</td>\n",
       "      <td>0.000000</td>\n",
       "    </tr>\n",
       "    <tr>\n",
       "      <th>50%</th>\n",
       "      <td>45753.500000</td>\n",
       "      <td>NaN</td>\n",
       "      <td>8.000000</td>\n",
       "      <td>8.000000</td>\n",
       "      <td>2.000000</td>\n",
       "      <td>NaN</td>\n",
       "      <td>0.000000</td>\n",
       "      <td>0.000000</td>\n",
       "      <td>0.000000</td>\n",
       "      <td>0.00000</td>\n",
       "      <td>0.000000</td>\n",
       "      <td>0.000000</td>\n",
       "      <td>0.000000</td>\n",
       "      <td>0.000000</td>\n",
       "      <td>0.000000</td>\n",
       "      <td>0.000000</td>\n",
       "      <td>0.000000</td>\n",
       "      <td>0.000000</td>\n",
       "    </tr>\n",
       "    <tr>\n",
       "      <th>75%</th>\n",
       "      <td>49049.250000</td>\n",
       "      <td>NaN</td>\n",
       "      <td>10.000000</td>\n",
       "      <td>10.000000</td>\n",
       "      <td>3.000000</td>\n",
       "      <td>NaN</td>\n",
       "      <td>1.000000</td>\n",
       "      <td>0.000000</td>\n",
       "      <td>0.000000</td>\n",
       "      <td>0.00000</td>\n",
       "      <td>0.000000</td>\n",
       "      <td>1.000000</td>\n",
       "      <td>1.000000</td>\n",
       "      <td>0.000000</td>\n",
       "      <td>0.000000</td>\n",
       "      <td>0.000000</td>\n",
       "      <td>0.000000</td>\n",
       "      <td>0.000000</td>\n",
       "    </tr>\n",
       "    <tr>\n",
       "      <th>max</th>\n",
       "      <td>52345.000000</td>\n",
       "      <td>NaN</td>\n",
       "      <td>16.000000</td>\n",
       "      <td>15.000000</td>\n",
       "      <td>4.000000</td>\n",
       "      <td>NaN</td>\n",
       "      <td>3.000000</td>\n",
       "      <td>1.000000</td>\n",
       "      <td>1.000000</td>\n",
       "      <td>1.00000</td>\n",
       "      <td>2.000000</td>\n",
       "      <td>3.000000</td>\n",
       "      <td>2.000000</td>\n",
       "      <td>2.000000</td>\n",
       "      <td>2.000000</td>\n",
       "      <td>1.000000</td>\n",
       "      <td>3.000000</td>\n",
       "      <td>1.000000</td>\n",
       "    </tr>\n",
       "  </tbody>\n",
       "</table>\n",
       "</div>"
      ],
      "text/plain": [
       "                  id  created_at  campaign_var_1  campaign_var_2  \\\n",
       "count   13184.000000       13184    13184.000000    13184.000000   \n",
       "unique           NaN          89             NaN             NaN   \n",
       "top              NaN  2022-01-23             NaN             NaN   \n",
       "freq             NaN         176             NaN             NaN   \n",
       "mean    45753.500000         NaN        7.724439        7.943416   \n",
       "std      3806.037309         NaN        3.599981        2.687832   \n",
       "min     39162.000000         NaN        1.000000        1.000000   \n",
       "25%     42457.750000         NaN        5.000000        6.000000   \n",
       "50%     45753.500000         NaN        8.000000        8.000000   \n",
       "75%     49049.250000         NaN       10.000000       10.000000   \n",
       "max     52345.000000         NaN       16.000000       15.000000   \n",
       "\n",
       "        products_purchased signup_date  user_activity_var_1  \\\n",
       "count          5048.000000        6535         13184.000000   \n",
       "unique                 NaN        1257                  NaN   \n",
       "top                    NaN  2022-03-06                  NaN   \n",
       "freq                   NaN          24                  NaN   \n",
       "mean              2.108954         NaN             0.386681   \n",
       "std               0.783483         NaN             0.505653   \n",
       "min               1.000000         NaN             0.000000   \n",
       "25%               2.000000         NaN             0.000000   \n",
       "50%               2.000000         NaN             0.000000   \n",
       "75%               3.000000         NaN             1.000000   \n",
       "max               4.000000         NaN             3.000000   \n",
       "\n",
       "        user_activity_var_2  user_activity_var_3  user_activity_var_4  \\\n",
       "count          13184.000000         13184.000000          13184.00000   \n",
       "unique                  NaN                  NaN                  NaN   \n",
       "top                     NaN                  NaN                  NaN   \n",
       "freq                    NaN                  NaN                  NaN   \n",
       "mean               0.004248             0.103307              0.00713   \n",
       "std                0.065037             0.304371              0.08414   \n",
       "min                0.000000             0.000000              0.00000   \n",
       "25%                0.000000             0.000000              0.00000   \n",
       "50%                0.000000             0.000000              0.00000   \n",
       "75%                0.000000             0.000000              0.00000   \n",
       "max                1.000000             1.000000              1.00000   \n",
       "\n",
       "        user_activity_var_5  user_activity_var_6  user_activity_var_7  \\\n",
       "count          13184.000000         13184.000000         13184.000000   \n",
       "unique                  NaN                  NaN                  NaN   \n",
       "top                     NaN                  NaN                  NaN   \n",
       "freq                    NaN                  NaN                  NaN   \n",
       "mean               0.153064             0.525485             0.304460   \n",
       "std                0.360695             0.565208             0.462989   \n",
       "min                0.000000             0.000000             0.000000   \n",
       "25%                0.000000             0.000000             0.000000   \n",
       "50%                0.000000             0.000000             0.000000   \n",
       "75%                0.000000             1.000000             1.000000   \n",
       "max                2.000000             3.000000             2.000000   \n",
       "\n",
       "        user_activity_var_8  user_activity_var_9  user_activity_var_10  \\\n",
       "count          13184.000000         13184.000000          13184.000000   \n",
       "unique                  NaN                  NaN                   NaN   \n",
       "top                     NaN                  NaN                   NaN   \n",
       "freq                    NaN                  NaN                   NaN   \n",
       "mean               0.142673             0.008419              0.000228   \n",
       "std                0.349969             0.092200              0.015084   \n",
       "min                0.000000             0.000000              0.000000   \n",
       "25%                0.000000             0.000000              0.000000   \n",
       "50%                0.000000             0.000000              0.000000   \n",
       "75%                0.000000             0.000000              0.000000   \n",
       "max                2.000000             2.000000              1.000000   \n",
       "\n",
       "        user_activity_var_11  user_activity_var_12  \n",
       "count           13184.000000          13184.000000  \n",
       "unique                   NaN                   NaN  \n",
       "top                      NaN                   NaN  \n",
       "freq                     NaN                   NaN  \n",
       "mean                0.253413              0.000228  \n",
       "std                 0.462698              0.015084  \n",
       "min                 0.000000              0.000000  \n",
       "25%                 0.000000              0.000000  \n",
       "50%                 0.000000              0.000000  \n",
       "75%                 0.000000              0.000000  \n",
       "max                 3.000000              1.000000  "
      ]
     },
     "execution_count": 25,
     "metadata": {},
     "output_type": "execute_result"
    }
   ],
   "source": [
    "pd.set_option('display.max_columns', None)\n",
    "dfS_test.describe(include = \"all\")"
   ]
  },
  {
   "cell_type": "markdown",
   "metadata": {},
   "source": [
    "### Checking whether the customers are unique or not"
   ]
  },
  {
   "cell_type": "code",
   "execution_count": 28,
   "metadata": {},
   "outputs": [
    {
     "data": {
      "text/plain": [
       "39161"
      ]
     },
     "execution_count": 28,
     "metadata": {},
     "output_type": "execute_result"
    }
   ],
   "source": [
    "dfS_train['id'].nunique()"
   ]
  },
  {
   "cell_type": "code",
   "execution_count": 27,
   "metadata": {},
   "outputs": [
    {
     "data": {
      "text/plain": [
       "13184"
      ]
     },
     "execution_count": 27,
     "metadata": {},
     "output_type": "execute_result"
    }
   ],
   "source": [
    "dfS_test['id'].nunique()"
   ]
  },
  {
   "cell_type": "markdown",
   "metadata": {},
   "source": [
    "# Convert object to date"
   ]
  },
  {
   "cell_type": "code",
   "execution_count": null,
   "metadata": {},
   "outputs": [],
   "source": []
  },
  {
   "cell_type": "code",
   "execution_count": 101,
   "metadata": {},
   "outputs": [],
   "source": [
    "dfS_train['created_at'] =  pd.to_datetime(dfS_train['created_at'], infer_datetime_format=True)\n",
    "dfS_test['created_at'] =  pd.to_datetime(dfS_test['created_at'], infer_datetime_format=True)"
   ]
  },
  {
   "cell_type": "code",
   "execution_count": 102,
   "metadata": {},
   "outputs": [],
   "source": [
    "dfS_train['signup_date'] =  pd.to_datetime(dfS_train['signup_date'], infer_datetime_format=True)\n",
    "dfS_test['signup_date'] =  pd.to_datetime(dfS_test['signup_date'], infer_datetime_format=True)\n"
   ]
  },
  {
   "cell_type": "code",
   "execution_count": 103,
   "metadata": {},
   "outputs": [
    {
     "name": "stdout",
     "output_type": "stream",
     "text": [
      "<class 'pandas.core.frame.DataFrame'>\n",
      "Int64Index: 39161 entries, 1 to 39161\n",
      "Data columns (total 18 columns):\n",
      " #   Column                Non-Null Count  Dtype         \n",
      "---  ------                --------------  -----         \n",
      " 0   created_at            39161 non-null  datetime64[ns]\n",
      " 1   campaign_var_1        39161 non-null  int64         \n",
      " 2   campaign_var_2        39161 non-null  int64         \n",
      " 3   products_purchased    18250 non-null  float64       \n",
      " 4   signup_date           24048 non-null  datetime64[ns]\n",
      " 5   user_activity_var_1   39161 non-null  int64         \n",
      " 6   user_activity_var_2   39161 non-null  int64         \n",
      " 7   user_activity_var_3   39161 non-null  int64         \n",
      " 8   user_activity_var_4   39161 non-null  int64         \n",
      " 9   user_activity_var_5   39161 non-null  int64         \n",
      " 10  user_activity_var_6   39161 non-null  int64         \n",
      " 11  user_activity_var_7   39161 non-null  int64         \n",
      " 12  user_activity_var_8   39161 non-null  int64         \n",
      " 13  user_activity_var_9   39161 non-null  int64         \n",
      " 14  user_activity_var_10  39161 non-null  int64         \n",
      " 15  user_activity_var_11  39161 non-null  int64         \n",
      " 16  user_activity_var_12  39161 non-null  int64         \n",
      " 17  buy                   39161 non-null  int64         \n",
      "dtypes: datetime64[ns](2), float64(1), int64(15)\n",
      "memory usage: 5.7 MB\n"
     ]
    }
   ],
   "source": [
    "dfS_train.info()"
   ]
  },
  {
   "cell_type": "code",
   "execution_count": 104,
   "metadata": {},
   "outputs": [
    {
     "name": "stdout",
     "output_type": "stream",
     "text": [
      "<class 'pandas.core.frame.DataFrame'>\n",
      "RangeIndex: 13184 entries, 0 to 13183\n",
      "Data columns (total 18 columns):\n",
      " #   Column                Non-Null Count  Dtype         \n",
      "---  ------                --------------  -----         \n",
      " 0   id                    13184 non-null  int64         \n",
      " 1   created_at            13184 non-null  datetime64[ns]\n",
      " 2   campaign_var_1        13184 non-null  int64         \n",
      " 3   campaign_var_2        13184 non-null  int64         \n",
      " 4   products_purchased    5048 non-null   float64       \n",
      " 5   signup_date           6535 non-null   datetime64[ns]\n",
      " 6   user_activity_var_1   13184 non-null  int64         \n",
      " 7   user_activity_var_2   13184 non-null  int64         \n",
      " 8   user_activity_var_3   13184 non-null  int64         \n",
      " 9   user_activity_var_4   13184 non-null  int64         \n",
      " 10  user_activity_var_5   13184 non-null  int64         \n",
      " 11  user_activity_var_6   13184 non-null  int64         \n",
      " 12  user_activity_var_7   13184 non-null  int64         \n",
      " 13  user_activity_var_8   13184 non-null  int64         \n",
      " 14  user_activity_var_9   13184 non-null  int64         \n",
      " 15  user_activity_var_10  13184 non-null  int64         \n",
      " 16  user_activity_var_11  13184 non-null  int64         \n",
      " 17  user_activity_var_12  13184 non-null  int64         \n",
      "dtypes: datetime64[ns](2), float64(1), int64(15)\n",
      "memory usage: 1.8 MB\n"
     ]
    }
   ],
   "source": [
    "dfS_test.info()"
   ]
  },
  {
   "cell_type": "markdown",
   "metadata": {},
   "source": [
    "## Checking for duplicate rows"
   ]
  },
  {
   "cell_type": "code",
   "execution_count": 105,
   "metadata": {
    "colab": {
     "base_uri": "https://localhost:8080/",
     "height": 165
    },
    "executionInfo": {
     "elapsed": 894,
     "status": "ok",
     "timestamp": 1653234243787,
     "user": {
      "displayName": "vasundhara bundela",
      "userId": "15799189428647516225"
     },
     "user_tz": -330
    },
    "id": "5t5LMR5lkkX5",
    "outputId": "6b4e5831-556a-487e-8bfe-94cd02e768a4"
   },
   "outputs": [
    {
     "name": "stdout",
     "output_type": "stream",
     "text": [
      "Number of duplicate rows = 0\n"
     ]
    },
    {
     "data": {
      "text/html": [
       "<div>\n",
       "<style scoped>\n",
       "    .dataframe tbody tr th:only-of-type {\n",
       "        vertical-align: middle;\n",
       "    }\n",
       "\n",
       "    .dataframe tbody tr th {\n",
       "        vertical-align: top;\n",
       "    }\n",
       "\n",
       "    .dataframe thead th {\n",
       "        text-align: right;\n",
       "    }\n",
       "</style>\n",
       "<table border=\"1\" class=\"dataframe\">\n",
       "  <thead>\n",
       "    <tr style=\"text-align: right;\">\n",
       "      <th></th>\n",
       "      <th>created_at</th>\n",
       "      <th>campaign_var_1</th>\n",
       "      <th>campaign_var_2</th>\n",
       "      <th>products_purchased</th>\n",
       "      <th>signup_date</th>\n",
       "      <th>user_activity_var_1</th>\n",
       "      <th>user_activity_var_2</th>\n",
       "      <th>user_activity_var_3</th>\n",
       "      <th>user_activity_var_4</th>\n",
       "      <th>user_activity_var_5</th>\n",
       "      <th>user_activity_var_6</th>\n",
       "      <th>user_activity_var_7</th>\n",
       "      <th>user_activity_var_8</th>\n",
       "      <th>user_activity_var_9</th>\n",
       "      <th>user_activity_var_10</th>\n",
       "      <th>user_activity_var_11</th>\n",
       "      <th>user_activity_var_12</th>\n",
       "      <th>buy</th>\n",
       "    </tr>\n",
       "    <tr>\n",
       "      <th>id</th>\n",
       "      <th></th>\n",
       "      <th></th>\n",
       "      <th></th>\n",
       "      <th></th>\n",
       "      <th></th>\n",
       "      <th></th>\n",
       "      <th></th>\n",
       "      <th></th>\n",
       "      <th></th>\n",
       "      <th></th>\n",
       "      <th></th>\n",
       "      <th></th>\n",
       "      <th></th>\n",
       "      <th></th>\n",
       "      <th></th>\n",
       "      <th></th>\n",
       "      <th></th>\n",
       "      <th></th>\n",
       "    </tr>\n",
       "  </thead>\n",
       "  <tbody>\n",
       "  </tbody>\n",
       "</table>\n",
       "</div>"
      ],
      "text/plain": [
       "Empty DataFrame\n",
       "Columns: [created_at, campaign_var_1, campaign_var_2, products_purchased, signup_date, user_activity_var_1, user_activity_var_2, user_activity_var_3, user_activity_var_4, user_activity_var_5, user_activity_var_6, user_activity_var_7, user_activity_var_8, user_activity_var_9, user_activity_var_10, user_activity_var_11, user_activity_var_12, buy]\n",
       "Index: []"
      ]
     },
     "execution_count": 105,
     "metadata": {},
     "output_type": "execute_result"
    }
   ],
   "source": [
    "dups = dfS_train.duplicated()\n",
    "print('Number of duplicate rows = %d' % (dups.sum()))\n",
    "dfS_train[dups]"
   ]
  },
  {
   "cell_type": "code",
   "execution_count": 106,
   "metadata": {
    "colab": {
     "base_uri": "https://localhost:8080/",
     "height": 165
    },
    "executionInfo": {
     "elapsed": 19,
     "status": "ok",
     "timestamp": 1653234243789,
     "user": {
      "displayName": "vasundhara bundela",
      "userId": "15799189428647516225"
     },
     "user_tz": -330
    },
    "id": "PKzGn41vkkX6",
    "outputId": "ae23514d-0a7d-4b80-affd-9acf41dbb0d9"
   },
   "outputs": [
    {
     "name": "stdout",
     "output_type": "stream",
     "text": [
      "Number of duplicate rows = 0\n"
     ]
    },
    {
     "data": {
      "text/html": [
       "<div>\n",
       "<style scoped>\n",
       "    .dataframe tbody tr th:only-of-type {\n",
       "        vertical-align: middle;\n",
       "    }\n",
       "\n",
       "    .dataframe tbody tr th {\n",
       "        vertical-align: top;\n",
       "    }\n",
       "\n",
       "    .dataframe thead th {\n",
       "        text-align: right;\n",
       "    }\n",
       "</style>\n",
       "<table border=\"1\" class=\"dataframe\">\n",
       "  <thead>\n",
       "    <tr style=\"text-align: right;\">\n",
       "      <th></th>\n",
       "      <th>id</th>\n",
       "      <th>created_at</th>\n",
       "      <th>campaign_var_1</th>\n",
       "      <th>campaign_var_2</th>\n",
       "      <th>products_purchased</th>\n",
       "      <th>signup_date</th>\n",
       "      <th>user_activity_var_1</th>\n",
       "      <th>user_activity_var_2</th>\n",
       "      <th>user_activity_var_3</th>\n",
       "      <th>user_activity_var_4</th>\n",
       "      <th>user_activity_var_5</th>\n",
       "      <th>user_activity_var_6</th>\n",
       "      <th>user_activity_var_7</th>\n",
       "      <th>user_activity_var_8</th>\n",
       "      <th>user_activity_var_9</th>\n",
       "      <th>user_activity_var_10</th>\n",
       "      <th>user_activity_var_11</th>\n",
       "      <th>user_activity_var_12</th>\n",
       "    </tr>\n",
       "  </thead>\n",
       "  <tbody>\n",
       "  </tbody>\n",
       "</table>\n",
       "</div>"
      ],
      "text/plain": [
       "Empty DataFrame\n",
       "Columns: [id, created_at, campaign_var_1, campaign_var_2, products_purchased, signup_date, user_activity_var_1, user_activity_var_2, user_activity_var_3, user_activity_var_4, user_activity_var_5, user_activity_var_6, user_activity_var_7, user_activity_var_8, user_activity_var_9, user_activity_var_10, user_activity_var_11, user_activity_var_12]\n",
       "Index: []"
      ]
     },
     "execution_count": 106,
     "metadata": {},
     "output_type": "execute_result"
    }
   ],
   "source": [
    "dups = dfS_test.duplicated()\n",
    "print('Number of duplicate rows = %d' % (dups.sum()))\n",
    "dfS_test[dups]"
   ]
  },
  {
   "cell_type": "markdown",
   "metadata": {},
   "source": [
    "# Checking whether the dataset is balanced or not"
   ]
  },
  {
   "cell_type": "code",
   "execution_count": 107,
   "metadata": {},
   "outputs": [
    {
     "data": {
      "text/plain": [
       "0    37163\n",
       "1     1998\n",
       "Name: buy, dtype: int64"
      ]
     },
     "execution_count": 107,
     "metadata": {},
     "output_type": "execute_result"
    }
   ],
   "source": [
    "dfS_train['buy'].value_counts()"
   ]
  },
  {
   "cell_type": "markdown",
   "metadata": {
    "executionInfo": {
     "elapsed": 16,
     "status": "ok",
     "timestamp": 1653234243791,
     "user": {
      "displayName": "vasundhara bundela",
      "userId": "15799189428647516225"
     },
     "user_tz": -330
    },
    "id": "CuZ86N-ZkkX6"
   },
   "source": [
    "## Univariate Analysis"
   ]
  },
  {
   "cell_type": "code",
   "execution_count": 108,
   "metadata": {
    "colab": {
     "base_uri": "https://localhost:8080/",
     "height": 892
    },
    "executionInfo": {
     "elapsed": 3526,
     "status": "ok",
     "timestamp": 1653234247303,
     "user": {
      "displayName": "vasundhara bundela",
      "userId": "15799189428647516225"
     },
     "user_tz": -330
    },
    "id": "Q9Hd7ULlkkX7",
    "outputId": "62cd3af5-fcf6-4f3d-b648-394658aef50d"
   },
   "outputs": [
    {
     "data": {
      "image/png": "[encoded data removed]",
      "text/plain": [
       "<Figure size 1224x1080 with 16 Axes>"
      ]
     },
     "metadata": {
      "needs_background": "light"
     },
     "output_type": "display_data"
    }
   ],
   "source": [
    "#Check the distribution of numeric variables\n",
    "from pylab import rcParams\n",
    "rcParams['figure.figsize'] = 17, 15\n",
    "dfS_train.hist();"
   ]
  },
  {
   "cell_type": "code",
   "execution_count": 109,
   "metadata": {},
   "outputs": [
    {
     "data": {
      "image/png": "[encoded data removed]",
      "text/plain": [
       "<Figure size 1224x1080 with 16 Axes>"
      ]
     },
     "metadata": {
      "needs_background": "light"
     },
     "output_type": "display_data"
    }
   ],
   "source": [
    "#Check the distribution of numeric variables\n",
    "from pylab import rcParams\n",
    "rcParams['figure.figsize'] = 17, 15\n",
    "dfS_test.hist();"
   ]
  },
  {
   "cell_type": "code",
   "execution_count": null,
   "metadata": {},
   "outputs": [],
   "source": [
    "difference = (curr_time-train_data.created_at)/np.timedelta64(1,'W')"
   ]
  },
  {
   "cell_type": "markdown",
   "metadata": {},
   "source": [
    "# Null Value Treatment"
   ]
  },
  {
   "cell_type": "code",
   "execution_count": 31,
   "metadata": {},
   "outputs": [],
   "source": [
    "import numpy as np\n"
   ]
  },
  {
   "cell_type": "code",
   "execution_count": 40,
   "metadata": {},
   "outputs": [],
   "source": [
    "df_model_train = dfS_train['products_purchased'].fillna((dfS_train['products_purchased'].median()))\n",
    "df_model_test = dfS_test['products_purchased'].fillna((dfS_train['products_purchased'].median()))\n",
    "\n",
    "\n"
   ]
  },
  {
   "cell_type": "code",
   "execution_count": 112,
   "metadata": {},
   "outputs": [
    {
     "name": "stdout",
     "output_type": "stream",
     "text": [
      "<class 'pandas.core.frame.DataFrame'>\n",
      "RangeIndex: 13184 entries, 0 to 13183\n",
      "Data columns (total 15 columns):\n",
      " #   Column                Non-Null Count  Dtype  \n",
      "---  ------                --------------  -----  \n",
      " 0   campaign_var_1        13184 non-null  int64  \n",
      " 1   campaign_var_2        13184 non-null  int64  \n",
      " 2   products_purchased    13184 non-null  float64\n",
      " 3   user_activity_var_1   13184 non-null  int64  \n",
      " 4   user_activity_var_2   13184 non-null  int64  \n",
      " 5   user_activity_var_3   13184 non-null  int64  \n",
      " 6   user_activity_var_4   13184 non-null  int64  \n",
      " 7   user_activity_var_5   13184 non-null  int64  \n",
      " 8   user_activity_var_6   13184 non-null  int64  \n",
      " 9   user_activity_var_7   13184 non-null  int64  \n",
      " 10  user_activity_var_8   13184 non-null  int64  \n",
      " 11  user_activity_var_9   13184 non-null  int64  \n",
      " 12  user_activity_var_10  13184 non-null  int64  \n",
      " 13  user_activity_var_11  13184 non-null  int64  \n",
      " 14  user_activity_var_12  13184 non-null  int64  \n",
      "dtypes: float64(1), int64(14)\n",
      "memory usage: 1.5 MB\n"
     ]
    }
   ],
   "source": [
    "\n",
    "df_model_test.info()"
   ]
  },
  {
   "cell_type": "markdown",
   "metadata": {
    "id": "xXEl3JBPpm_d"
   },
   "source": [
    "# Model Building"
   ]
  },
  {
   "cell_type": "code",
   "execution_count": 113,
   "metadata": {
    "executionInfo": {
     "elapsed": 385,
     "status": "ok",
     "timestamp": 1653235688309,
     "user": {
      "displayName": "vasundhara bundela",
      "userId": "15799189428647516225"
     },
     "user_tz": -330
    },
    "id": "OiZyFdTWkkYR"
   },
   "outputs": [],
   "source": [
    "# Copy all the predictor variables into X dataframe\n",
    "X = df_model_train.drop(['buy'], axis=1)\n",
    "from sklearn.preprocessing import scale\n",
    "#Scaled the data\n",
    "X = scale(X)\n",
    "# Copy target into the y dataframe. \n",
    "y = df_model_train['buy']\n",
    "from sklearn.model_selection import train_test_split\n",
    "X_train, X_val, y_train, y_val = train_test_split(X,y,test_size=0.2,random_state=142,stratify= y)"
   ]
  },
  {
   "cell_type": "code",
   "execution_count": 114,
   "metadata": {
    "colab": {
     "base_uri": "https://localhost:8080/"
    },
    "executionInfo": {
     "elapsed": 442,
     "status": "ok",
     "timestamp": 1653235693846,
     "user": {
      "displayName": "vasundhara bundela",
      "userId": "15799189428647516225"
     },
     "user_tz": -330
    },
    "id": "4fEGKAXrkkYR",
    "outputId": "21ec643f-7af8-4079-9170-13f4507af5f0"
   },
   "outputs": [
    {
     "data": {
      "text/plain": [
       "0    0.948991\n",
       "1    0.051009\n",
       "Name: buy, dtype: float64"
      ]
     },
     "execution_count": 114,
     "metadata": {},
     "output_type": "execute_result"
    }
   ],
   "source": [
    "y_train.value_counts(1)"
   ]
  },
  {
   "cell_type": "markdown",
   "metadata": {
    "id": "B3tZAd0Qp2Hf"
   },
   "source": [
    "# Logistic Regression"
   ]
  },
  {
   "cell_type": "code",
   "execution_count": 115,
   "metadata": {
    "executionInfo": {
     "elapsed": 487,
     "status": "ok",
     "timestamp": 1653235698881,
     "user": {
      "displayName": "vasundhara bundela",
      "userId": "15799189428647516225"
     },
     "user_tz": -330
    },
    "id": "tOPZRw7akkYS"
   },
   "outputs": [],
   "source": [
    "from sklearn.model_selection import train_test_split,GridSearchCV\n",
    "from sklearn.linear_model import LogisticRegression\n",
    "from sklearn import metrics\n",
    "from sklearn.metrics import roc_auc_score,roc_curve,classification_report,confusion_matrix,plot_confusion_matrix"
   ]
  },
  {
   "cell_type": "code",
   "execution_count": 116,
   "metadata": {
    "colab": {
     "base_uri": "https://localhost:8080/"
    },
    "executionInfo": {
     "elapsed": 30739,
     "status": "ok",
     "timestamp": 1653235730883,
     "user": {
      "displayName": "vasundhara bundela",
      "userId": "15799189428647516225"
     },
     "user_tz": -330
    },
    "id": "d4Ob4pdskkYS",
    "outputId": "7a956f09-08df-40f4-a9df-5e6d5e2b3fb1"
   },
   "outputs": [
    {
     "name": "stderr",
     "output_type": "stream",
     "text": [
      "[Parallel(n_jobs=-1)]: Using backend LokyBackend with 4 concurrent workers.\n",
      "[Parallel(n_jobs=-1)]: Done   1 out of   1 | elapsed:    3.5s finished\n"
     ]
    },
    {
     "data": {
      "text/plain": [
       "LogisticRegression(max_iter=10000, n_jobs=-1, penalty='none',\n",
       "                   solver='newton-cg', verbose=True)"
      ]
     },
     "execution_count": 116,
     "metadata": {},
     "output_type": "execute_result"
    }
   ],
   "source": [
    "\n",
    "model = LogisticRegression(solver='newton-cg',max_iter=10000,penalty='none',verbose=True,n_jobs=-1)\n",
    "model.fit(X_train, y_train)"
   ]
  },
  {
   "cell_type": "code",
   "execution_count": 117,
   "metadata": {
    "executionInfo": {
     "elapsed": 18,
     "status": "ok",
     "timestamp": 1653235730884,
     "user": {
      "displayName": "vasundhara bundela",
      "userId": "15799189428647516225"
     },
     "user_tz": -330
    },
    "id": "1rucpHPskkYS"
   },
   "outputs": [],
   "source": [
    "ytrain_predict = model.predict(X_train)"
   ]
  },
  {
   "cell_type": "code",
   "execution_count": 118,
   "metadata": {
    "colab": {
     "base_uri": "https://localhost:8080/"
    },
    "executionInfo": {
     "elapsed": 18,
     "status": "ok",
     "timestamp": 1653235730885,
     "user": {
      "displayName": "vasundhara bundela",
      "userId": "15799189428647516225"
     },
     "user_tz": -330
    },
    "id": "IS_CigQDkkYT",
    "outputId": "c227d033-cbf7-4c5b-f3d7-89cc6dfbe874"
   },
   "outputs": [
    {
     "data": {
      "text/plain": [
       "0.9739210929519918"
      ]
     },
     "execution_count": 118,
     "metadata": {},
     "output_type": "execute_result"
    }
   ],
   "source": [
    "model.score(X_train, y_train)"
   ]
  },
  {
   "cell_type": "code",
   "execution_count": 119,
   "metadata": {},
   "outputs": [
    {
     "name": "stdout",
     "output_type": "stream",
     "text": [
      "              precision    recall  f1-score   support\n",
      "\n",
      "           0       0.97      1.00      0.99     29730\n",
      "           1       0.96      0.51      0.67      1598\n",
      "\n",
      "    accuracy                           0.97     31328\n",
      "   macro avg       0.97      0.76      0.83     31328\n",
      "weighted avg       0.97      0.97      0.97     31328\n",
      "\n"
     ]
    }
   ],
   "source": [
    "print(classification_report(y_train, ytrain_predict ))"
   ]
  },
  {
   "cell_type": "code",
   "execution_count": 120,
   "metadata": {},
   "outputs": [],
   "source": [
    "pred_val = model.predict(X_val)"
   ]
  },
  {
   "cell_type": "code",
   "execution_count": 121,
   "metadata": {},
   "outputs": [
    {
     "name": "stdout",
     "output_type": "stream",
     "text": [
      "              precision    recall  f1-score   support\n",
      "\n",
      "           0       0.97      1.00      0.99      7433\n",
      "           1       0.97      0.48      0.64       400\n",
      "\n",
      "    accuracy                           0.97      7833\n",
      "   macro avg       0.97      0.74      0.82      7833\n",
      "weighted avg       0.97      0.97      0.97      7833\n",
      "\n"
     ]
    }
   ],
   "source": [
    "print(classification_report(y_val, pred_val ))"
   ]
  },
  {
   "cell_type": "markdown",
   "metadata": {},
   "source": [
    "# Prediction on Test Data Set "
   ]
  },
  {
   "cell_type": "code",
   "execution_count": 122,
   "metadata": {
    "executionInfo": {
     "elapsed": 3,
     "status": "ok",
     "timestamp": 1653235744686,
     "user": {
      "displayName": "vasundhara bundela",
      "userId": "15799189428647516225"
     },
     "user_tz": -330
    },
    "id": "I63t9tzZSpkM"
   },
   "outputs": [],
   "source": [
    "X_test = scale(df_model_test)\n",
    "pred_test = model.predict(X_test)"
   ]
  },
  {
   "cell_type": "code",
   "execution_count": 123,
   "metadata": {},
   "outputs": [],
   "source": [
    "Sub = pd.read_csv('sample_submission_2zvVjBu.csv')"
   ]
  },
  {
   "cell_type": "code",
   "execution_count": 124,
   "metadata": {
    "executionInfo": {
     "elapsed": 3,
     "status": "ok",
     "timestamp": 1653235745428,
     "user": {
      "displayName": "vasundhara bundela",
      "userId": "15799189428647516225"
     },
     "user_tz": -330
    },
    "id": "T6ISvuciSsYN"
   },
   "outputs": [],
   "source": [
    "Sub['buy'] = pred_test"
   ]
  },
  {
   "cell_type": "code",
   "execution_count": 125,
   "metadata": {
    "colab": {
     "base_uri": "https://localhost:8080/",
     "height": 17
    },
    "executionInfo": {
     "elapsed": 659,
     "status": "ok",
     "timestamp": 1653235548458,
     "user": {
      "displayName": "vasundhara bundela",
      "userId": "15799189428647516225"
     },
     "user_tz": -330
    },
    "id": "zZdeNibiTNdM",
    "outputId": "f23e8349-91c9-48d1-d221-86ff716aa0b5"
   },
   "outputs": [],
   "source": [
    "Sub.to_csv('Sub2.csv')\n",
    "\n"
   ]
  },
  {
   "cell_type": "markdown",
   "metadata": {
    "id": "0UiNfaE3uCol"
   },
   "source": [
    "# Smote"
   ]
  },
  {
   "cell_type": "markdown",
   "metadata": {},
   "source": [
    "As the data is imbalanced we are using the smote"
   ]
  },
  {
   "cell_type": "code",
   "execution_count": 126,
   "metadata": {
    "executionInfo": {
     "elapsed": 3569,
     "status": "ok",
     "timestamp": 1653235734447,
     "user": {
      "displayName": "vasundhara bundela",
      "userId": "15799189428647516225"
     },
     "user_tz": -330
    },
    "id": "CEgyiRvokkYW"
   },
   "outputs": [],
   "source": [
    "from imblearn.over_sampling import SMOTE \n",
    "sm = SMOTE(random_state=33)\n",
    "X_res, y_res = sm.fit_resample(X_train, y_train)"
   ]
  },
  {
   "cell_type": "code",
   "execution_count": 127,
   "metadata": {},
   "outputs": [
    {
     "name": "stderr",
     "output_type": "stream",
     "text": [
      "[Parallel(n_jobs=-1)]: Using backend LokyBackend with 4 concurrent workers.\n",
      "[Parallel(n_jobs=-1)]: Done   1 out of   1 | elapsed:    5.9s finished\n"
     ]
    },
    {
     "data": {
      "text/plain": [
       "LogisticRegression(max_iter=10000, n_jobs=-1, penalty='none',\n",
       "                   solver='newton-cg', verbose=True)"
      ]
     },
     "execution_count": 127,
     "metadata": {},
     "output_type": "execute_result"
    }
   ],
   "source": [
    "\n",
    "model1 = LogisticRegression(solver='newton-cg',max_iter=10000,penalty='none',verbose=True,n_jobs=-1)\n",
    "model1.fit(X_res, y_res)"
   ]
  },
  {
   "cell_type": "code",
   "execution_count": 128,
   "metadata": {},
   "outputs": [],
   "source": [
    "yres_predict = model1.predict(X_res)"
   ]
  },
  {
   "cell_type": "code",
   "execution_count": 129,
   "metadata": {},
   "outputs": [
    {
     "data": {
      "text/plain": [
       "0.8352674066599395"
      ]
     },
     "execution_count": 129,
     "metadata": {},
     "output_type": "execute_result"
    }
   ],
   "source": [
    "model1.score(X_res, y_res)"
   ]
  },
  {
   "cell_type": "code",
   "execution_count": 130,
   "metadata": {},
   "outputs": [
    {
     "name": "stdout",
     "output_type": "stream",
     "text": [
      "              precision    recall  f1-score   support\n",
      "\n",
      "           0       0.81      0.87      0.84     29730\n",
      "           1       0.86      0.80      0.83     29730\n",
      "\n",
      "    accuracy                           0.84     59460\n",
      "   macro avg       0.84      0.84      0.84     59460\n",
      "weighted avg       0.84      0.84      0.84     59460\n",
      "\n"
     ]
    }
   ],
   "source": [
    "print(classification_report(y_res, yres_predict ))"
   ]
  },
  {
   "cell_type": "code",
   "execution_count": 131,
   "metadata": {},
   "outputs": [],
   "source": [
    "pred_val_smote = model1.predict(X_val)"
   ]
  },
  {
   "cell_type": "code",
   "execution_count": 132,
   "metadata": {},
   "outputs": [
    {
     "name": "stdout",
     "output_type": "stream",
     "text": [
      "              precision    recall  f1-score   support\n",
      "\n",
      "           0       0.99      0.87      0.92      7433\n",
      "           1       0.24      0.81      0.38       400\n",
      "\n",
      "    accuracy                           0.86      7833\n",
      "   macro avg       0.62      0.84      0.65      7833\n",
      "weighted avg       0.95      0.86      0.89      7833\n",
      "\n"
     ]
    }
   ],
   "source": [
    "print(classification_report(y_val, pred_val_smote ))"
   ]
  },
  {
   "cell_type": "markdown",
   "metadata": {},
   "source": [
    "# Prediction on Test Data Set "
   ]
  },
  {
   "cell_type": "code",
   "execution_count": 133,
   "metadata": {
    "executionInfo": {
     "elapsed": 3,
     "status": "ok",
     "timestamp": 1653235744686,
     "user": {
      "displayName": "vasundhara bundela",
      "userId": "15799189428647516225"
     },
     "user_tz": -330
    },
    "id": "I63t9tzZSpkM"
   },
   "outputs": [],
   "source": [
    "X_test = scale(df_model_test)\n",
    "pred_test_smote = model1.predict(X_test)"
   ]
  },
  {
   "cell_type": "code",
   "execution_count": 134,
   "metadata": {},
   "outputs": [],
   "source": [
    "#Sub = pd.read_csv('sample_submission_2zvVjBu.csv')"
   ]
  },
  {
   "cell_type": "code",
   "execution_count": 135,
   "metadata": {
    "executionInfo": {
     "elapsed": 3,
     "status": "ok",
     "timestamp": 1653235745428,
     "user": {
      "displayName": "vasundhara bundela",
      "userId": "15799189428647516225"
     },
     "user_tz": -330
    },
    "id": "T6ISvuciSsYN"
   },
   "outputs": [],
   "source": [
    "Sub['buy'] = pred_test_smote "
   ]
  },
  {
   "cell_type": "code",
   "execution_count": 136,
   "metadata": {
    "colab": {
     "base_uri": "https://localhost:8080/",
     "height": 17
    },
    "executionInfo": {
     "elapsed": 659,
     "status": "ok",
     "timestamp": 1653235548458,
     "user": {
      "displayName": "vasundhara bundela",
      "userId": "15799189428647516225"
     },
     "user_tz": -330
    },
    "id": "zZdeNibiTNdM",
    "outputId": "f23e8349-91c9-48d1-d221-86ff716aa0b5"
   },
   "outputs": [],
   "source": [
    "Sub.to_csv('Sub1.csv')\n",
    "\n"
   ]
  },
  {
   "cell_type": "markdown",
   "metadata": {},
   "source": [
    "# Using Best Grid"
   ]
  },
  {
   "cell_type": "code",
   "execution_count": 137,
   "metadata": {},
   "outputs": [],
   "source": [
    "grid= {'penalty':['l2','15', '17''none'],\n",
    "     'solver':['lbfgs','sag','lbfgs'],\n",
    "     'tol':[0.0001,0.00001]\n",
    "     }\n"
   ]
  },
  {
   "cell_type": "code",
   "execution_count": 138,
   "metadata": {},
   "outputs": [],
   "source": [
    "grid_search = GridSearchCV(estimator = model, param_grid = grid, cv = 3,n_jobs=-1,scoring='f1')"
   ]
  },
  {
   "cell_type": "code",
   "execution_count": 139,
   "metadata": {},
   "outputs": [
    {
     "name": "stderr",
     "output_type": "stream",
     "text": [
      "C:\\Anan\\lib\\site-packages\\sklearn\\model_selection\\_search.py:922: UserWarning: One or more of the test scores are non-finite: [0.66624474 0.66624474 0.66624474 0.66624474 0.66624474 0.66624474\n",
      "        nan        nan        nan        nan        nan        nan\n",
      "        nan        nan        nan        nan        nan        nan]\n",
      "  warnings.warn(\n",
      "[Parallel(n_jobs=-1)]: Using backend LokyBackend with 4 concurrent workers.\n",
      "[Parallel(n_jobs=-1)]: Done   1 out of   1 | elapsed:    0.4s finished\n"
     ]
    },
    {
     "data": {
      "text/plain": [
       "GridSearchCV(cv=3,\n",
       "             estimator=LogisticRegression(max_iter=10000, n_jobs=-1,\n",
       "                                          penalty='none', solver='newton-cg',\n",
       "                                          verbose=True),\n",
       "             n_jobs=-1,\n",
       "             param_grid={'penalty': ['l2', '15', '17none'],\n",
       "                         'solver': ['lbfgs', 'sag', 'lbfgs'],\n",
       "                         'tol': [0.0001, 1e-05]},\n",
       "             scoring='f1')"
      ]
     },
     "execution_count": 139,
     "metadata": {},
     "output_type": "execute_result"
    }
   ],
   "source": [
    "grid_search.fit(X_train, y_train)"
   ]
  },
  {
   "cell_type": "code",
   "execution_count": 140,
   "metadata": {},
   "outputs": [
    {
     "name": "stdout",
     "output_type": "stream",
     "text": [
      "{'penalty': 'l2', 'solver': 'lbfgs', 'tol': 0.0001} \n",
      "\n",
      "LogisticRegression(max_iter=10000, n_jobs=-1, verbose=True)\n"
     ]
    }
   ],
   "source": [
    "print(grid_search.best_params_,'\\n')\n",
    "print(grid_search.best_estimator_)"
   ]
  },
  {
   "cell_type": "code",
   "execution_count": 141,
   "metadata": {},
   "outputs": [],
   "source": [
    "best_model = grid_search.best_estimator_"
   ]
  },
  {
   "cell_type": "code",
   "execution_count": 142,
   "metadata": {},
   "outputs": [],
   "source": [
    "\n",
    "ytrain_predict = best_model.predict(X_train)"
   ]
  },
  {
   "cell_type": "code",
   "execution_count": 143,
   "metadata": {},
   "outputs": [
    {
     "data": {
      "text/plain": [
       "0.9738891726251276"
      ]
     },
     "execution_count": 143,
     "metadata": {},
     "output_type": "execute_result"
    }
   ],
   "source": [
    "best_model.score(X_train, y_train)"
   ]
  },
  {
   "cell_type": "code",
   "execution_count": 144,
   "metadata": {},
   "outputs": [
    {
     "name": "stdout",
     "output_type": "stream",
     "text": [
      "              precision    recall  f1-score   support\n",
      "\n",
      "           0       0.97      1.00      0.99     29730\n",
      "           1       0.96      0.51      0.67      1598\n",
      "\n",
      "    accuracy                           0.97     31328\n",
      "   macro avg       0.97      0.76      0.83     31328\n",
      "weighted avg       0.97      0.97      0.97     31328\n",
      "\n"
     ]
    }
   ],
   "source": [
    "print(classification_report(y_train, ytrain_predict ))"
   ]
  },
  {
   "cell_type": "code",
   "execution_count": 145,
   "metadata": {},
   "outputs": [
    {
     "name": "stderr",
     "output_type": "stream",
     "text": [
      "[Parallel(n_jobs=-1)]: Using backend LokyBackend with 4 concurrent workers.\n",
      "[Parallel(n_jobs=-1)]: Done   1 out of   1 | elapsed:    0.7s finished\n"
     ]
    }
   ],
   "source": [
    "selector_smote = best_model.fit(X_res, y_res)"
   ]
  },
  {
   "cell_type": "code",
   "execution_count": 146,
   "metadata": {},
   "outputs": [],
   "source": [
    "ysmote_predict = selector_smote.predict(X_res)"
   ]
  },
  {
   "cell_type": "code",
   "execution_count": 147,
   "metadata": {},
   "outputs": [
    {
     "name": "stdout",
     "output_type": "stream",
     "text": [
      "              precision    recall  f1-score   support\n",
      "\n",
      "           0       0.81      0.87      0.84     29730\n",
      "           1       0.86      0.80      0.83     29730\n",
      "\n",
      "    accuracy                           0.84     59460\n",
      "   macro avg       0.84      0.84      0.84     59460\n",
      "weighted avg       0.84      0.84      0.84     59460\n",
      "\n"
     ]
    }
   ],
   "source": [
    "print(classification_report(y_res, ysmote_predict))"
   ]
  },
  {
   "cell_type": "code",
   "execution_count": 148,
   "metadata": {},
   "outputs": [],
   "source": [
    "pred_val_smote = selector_smote.predict(X_val)"
   ]
  },
  {
   "cell_type": "code",
   "execution_count": 149,
   "metadata": {},
   "outputs": [
    {
     "name": "stdout",
     "output_type": "stream",
     "text": [
      "              precision    recall  f1-score   support\n",
      "\n",
      "           0       0.99      0.87      0.92      7433\n",
      "           1       0.24      0.81      0.38       400\n",
      "\n",
      "    accuracy                           0.86      7833\n",
      "   macro avg       0.62      0.84      0.65      7833\n",
      "weighted avg       0.95      0.86      0.89      7833\n",
      "\n"
     ]
    }
   ],
   "source": [
    "print(classification_report(y_val, pred_val_smote ))"
   ]
  },
  {
   "cell_type": "markdown",
   "metadata": {},
   "source": [
    "# Other Models"
   ]
  },
  {
   "cell_type": "markdown",
   "metadata": {
    "id": "MdrydAquMCgm"
   },
   "source": [
    "# MLP"
   ]
  },
  {
   "cell_type": "code",
   "execution_count": 150,
   "metadata": {
    "id": "sNAwCr2PkkYa"
   },
   "outputs": [],
   "source": [
    "from sklearn.neural_network import MLPClassifier"
   ]
  },
  {
   "cell_type": "code",
   "execution_count": 151,
   "metadata": {
    "id": "FkhM1--rkkYb"
   },
   "outputs": [],
   "source": [
    "clf = MLPClassifier(hidden_layer_sizes=100, max_iter=5000,\n",
    "                     solver='sgd', verbose=True,  random_state=21,tol=0.01)"
   ]
  },
  {
   "cell_type": "code",
   "execution_count": 152,
   "metadata": {
    "colab": {
     "base_uri": "https://localhost:8080/"
    },
    "executionInfo": {
     "elapsed": 9046,
     "status": "ok",
     "timestamp": 1653156646267,
     "user": {
      "displayName": "vasundhara bundela",
      "userId": "15799189428647516225"
     },
     "user_tz": -330
    },
    "id": "8Ma4NiATkkYb",
    "outputId": "7e010a05-d710-4228-e547-246faa86694f"
   },
   "outputs": [
    {
     "name": "stdout",
     "output_type": "stream",
     "text": [
      "Iteration 1, loss = 0.41134394\n",
      "Iteration 2, loss = 0.23386234\n",
      "Iteration 3, loss = 0.18076726\n",
      "Iteration 4, loss = 0.15377190\n",
      "Iteration 5, loss = 0.13890319\n",
      "Iteration 6, loss = 0.12968559\n",
      "Iteration 7, loss = 0.12327517\n",
      "Iteration 8, loss = 0.11848580\n",
      "Iteration 9, loss = 0.11473835\n",
      "Iteration 10, loss = 0.11180873\n",
      "Iteration 11, loss = 0.10958297\n",
      "Iteration 12, loss = 0.10786049\n",
      "Iteration 13, loss = 0.10651260\n",
      "Iteration 14, loss = 0.10542378\n",
      "Iteration 15, loss = 0.10453061\n",
      "Iteration 16, loss = 0.10378217\n",
      "Training loss did not improve more than tol=0.010000 for 10 consecutive epochs. Stopping.\n"
     ]
    },
    {
     "data": {
      "text/plain": [
       "MLPClassifier(hidden_layer_sizes=100, max_iter=5000, random_state=21,\n",
       "              solver='sgd', tol=0.01, verbose=True)"
      ]
     },
     "execution_count": 152,
     "metadata": {},
     "output_type": "execute_result"
    }
   ],
   "source": [
    "clf.fit(X_train, y_train)\n"
   ]
  },
  {
   "cell_type": "code",
   "execution_count": 153,
   "metadata": {
    "id": "BQAjDVoikkYb"
   },
   "outputs": [],
   "source": [
    "from sklearn.metrics import confusion_matrix,classification_report"
   ]
  },
  {
   "cell_type": "code",
   "execution_count": 154,
   "metadata": {
    "colab": {
     "base_uri": "https://localhost:8080/"
    },
    "executionInfo": {
     "elapsed": 487,
     "status": "ok",
     "timestamp": 1653156703109,
     "user": {
      "displayName": "vasundhara bundela",
      "userId": "15799189428647516225"
     },
     "user_tz": -330
    },
    "id": "E26Yz9IzkkYc",
    "outputId": "4b0fe763-6f67-4e87-aba7-470827c620ed"
   },
   "outputs": [
    {
     "data": {
      "text/plain": [
       "0.9716866700715016"
      ]
     },
     "execution_count": 154,
     "metadata": {},
     "output_type": "execute_result"
    }
   ],
   "source": [
    "clf.score(X_train, y_train)"
   ]
  },
  {
   "cell_type": "code",
   "execution_count": 155,
   "metadata": {
    "id": "viHesh110WV-"
   },
   "outputs": [],
   "source": [
    "ytrain_predict = clf.predict(X_train)"
   ]
  },
  {
   "cell_type": "code",
   "execution_count": null,
   "metadata": {},
   "outputs": [],
   "source": []
  },
  {
   "cell_type": "code",
   "execution_count": 156,
   "metadata": {
    "colab": {
     "base_uri": "https://localhost:8080/"
    },
    "executionInfo": {
     "elapsed": 406,
     "status": "ok",
     "timestamp": 1653156807943,
     "user": {
      "displayName": "vasundhara bundela",
      "userId": "15799189428647516225"
     },
     "user_tz": -330
    },
    "id": "2aCWe90o0evi",
    "outputId": "27052bd4-ca22-4ccc-d629-277f009c4706"
   },
   "outputs": [
    {
     "name": "stdout",
     "output_type": "stream",
     "text": [
      "              precision    recall  f1-score   support\n",
      "\n",
      "           0       0.97      1.00      0.99     29730\n",
      "           1       0.94      0.48      0.63      1598\n",
      "\n",
      "    accuracy                           0.97     31328\n",
      "   macro avg       0.96      0.74      0.81     31328\n",
      "weighted avg       0.97      0.97      0.97     31328\n",
      "\n"
     ]
    }
   ],
   "source": [
    "print(classification_report(y_train, ytrain_predict ))"
   ]
  },
  {
   "cell_type": "code",
   "execution_count": 157,
   "metadata": {},
   "outputs": [],
   "source": [
    "yval_predict = clf.predict(X_val)"
   ]
  },
  {
   "cell_type": "code",
   "execution_count": 158,
   "metadata": {},
   "outputs": [
    {
     "name": "stdout",
     "output_type": "stream",
     "text": [
      "              precision    recall  f1-score   support\n",
      "\n",
      "           0       0.97      1.00      0.98      7433\n",
      "           1       0.98      0.44      0.61       400\n",
      "\n",
      "    accuracy                           0.97      7833\n",
      "   macro avg       0.97      0.72      0.80      7833\n",
      "weighted avg       0.97      0.97      0.97      7833\n",
      "\n"
     ]
    }
   ],
   "source": [
    "print(classification_report(y_val, yval_predict ))"
   ]
  },
  {
   "cell_type": "code",
   "execution_count": 181,
   "metadata": {},
   "outputs": [],
   "source": [
    "y_test_predict = clf.predict(X_test)"
   ]
  },
  {
   "cell_type": "code",
   "execution_count": 182,
   "metadata": {
    "executionInfo": {
     "elapsed": 3,
     "status": "ok",
     "timestamp": 1653235745428,
     "user": {
      "displayName": "vasundhara bundela",
      "userId": "15799189428647516225"
     },
     "user_tz": -330
    },
    "id": "T6ISvuciSsYN"
   },
   "outputs": [],
   "source": [
    "Sub['buy'] = pred_test_smote "
   ]
  },
  {
   "cell_type": "code",
   "execution_count": 183,
   "metadata": {
    "colab": {
     "base_uri": "https://localhost:8080/",
     "height": 17
    },
    "executionInfo": {
     "elapsed": 659,
     "status": "ok",
     "timestamp": 1653235548458,
     "user": {
      "displayName": "vasundhara bundela",
      "userId": "15799189428647516225"
     },
     "user_tz": -330
    },
    "id": "zZdeNibiTNdM",
    "outputId": "f23e8349-91c9-48d1-d221-86ff716aa0b5"
   },
   "outputs": [],
   "source": [
    "Sub.to_csv('Sub4.csv')\n",
    "\n"
   ]
  },
  {
   "cell_type": "code",
   "execution_count": null,
   "metadata": {},
   "outputs": [],
   "source": []
  },
  {
   "cell_type": "code",
   "execution_count": 159,
   "metadata": {
    "colab": {
     "base_uri": "https://localhost:8080/"
    },
    "executionInfo": {
     "elapsed": 18151,
     "status": "ok",
     "timestamp": 1653156844126,
     "user": {
      "displayName": "vasundhara bundela",
      "userId": "15799189428647516225"
     },
     "user_tz": -330
    },
    "id": "Gk3kLta90v9S",
    "outputId": "c92fea4c-1ba5-47da-ba64-6816792cf9d7"
   },
   "outputs": [
    {
     "name": "stdout",
     "output_type": "stream",
     "text": [
      "Iteration 1, loss = 0.49721612\n",
      "Iteration 2, loss = 0.38699200\n",
      "Iteration 3, loss = 0.36109683\n",
      "Iteration 4, loss = 0.35054354\n",
      "Iteration 5, loss = 0.34493403\n",
      "Iteration 6, loss = 0.34124355\n",
      "Iteration 7, loss = 0.33852327\n",
      "Iteration 8, loss = 0.33632770\n",
      "Iteration 9, loss = 0.33445718\n",
      "Iteration 10, loss = 0.33280690\n",
      "Iteration 11, loss = 0.33132484\n",
      "Iteration 12, loss = 0.32995518\n",
      "Iteration 13, loss = 0.32869895\n",
      "Iteration 14, loss = 0.32750504\n",
      "Iteration 15, loss = 0.32638843\n",
      "Training loss did not improve more than tol=0.010000 for 10 consecutive epochs. Stopping.\n"
     ]
    }
   ],
   "source": [
    "selector_smote_clf = clf.fit(X_res, y_res)"
   ]
  },
  {
   "cell_type": "code",
   "execution_count": 160,
   "metadata": {
    "id": "sNR1_6n50-MA"
   },
   "outputs": [],
   "source": [
    "pred_train_smote_clf = selector_smote_clf.predict(X_res)\n"
   ]
  },
  {
   "cell_type": "code",
   "execution_count": 161,
   "metadata": {
    "colab": {
     "base_uri": "https://localhost:8080/"
    },
    "executionInfo": {
     "elapsed": 1084,
     "status": "ok",
     "timestamp": 1653157108611,
     "user": {
      "displayName": "vasundhara bundela",
      "userId": "15799189428647516225"
     },
     "user_tz": -330
    },
    "id": "6GTO0A8V1a_Y",
    "outputId": "ef04bb78-a1c4-45e6-da77-14b509068c67"
   },
   "outputs": [
    {
     "name": "stdout",
     "output_type": "stream",
     "text": [
      "              precision    recall  f1-score   support\n",
      "\n",
      "           0       0.82      0.88      0.85     29730\n",
      "           1       0.88      0.81      0.84     29730\n",
      "\n",
      "    accuracy                           0.85     59460\n",
      "   macro avg       0.85      0.85      0.85     59460\n",
      "weighted avg       0.85      0.85      0.85     59460\n",
      "\n"
     ]
    }
   ],
   "source": [
    "print(classification_report(y_res, pred_train_smote_clf ))"
   ]
  },
  {
   "cell_type": "code",
   "execution_count": 162,
   "metadata": {},
   "outputs": [],
   "source": [
    "pred_val_smote_clf = selector_smote_clf.predict(X_val)"
   ]
  },
  {
   "cell_type": "code",
   "execution_count": 163,
   "metadata": {},
   "outputs": [
    {
     "name": "stdout",
     "output_type": "stream",
     "text": [
      "              precision    recall  f1-score   support\n",
      "\n",
      "           0       0.99      0.88      0.93      7433\n",
      "           1       0.26      0.79      0.39       400\n",
      "\n",
      "    accuracy                           0.87      7833\n",
      "   macro avg       0.62      0.83      0.66      7833\n",
      "weighted avg       0.95      0.87      0.90      7833\n",
      "\n"
     ]
    }
   ],
   "source": [
    "print(classification_report(y_val, pred_val_smote_clf ))"
   ]
  },
  {
   "cell_type": "markdown",
   "metadata": {
    "id": "IPzDntU5MJd-"
   },
   "source": [
    "# LDA"
   ]
  },
  {
   "cell_type": "code",
   "execution_count": 164,
   "metadata": {
    "id": "XaXgloFOkkYd"
   },
   "outputs": [],
   "source": [
    "from sklearn.discriminant_analysis import LinearDiscriminantAnalysis"
   ]
  },
  {
   "cell_type": "code",
   "execution_count": 165,
   "metadata": {
    "id": "9bS7MAKekkYd"
   },
   "outputs": [],
   "source": [
    "clf1 = LinearDiscriminantAnalysis()\n",
    "model=clf1.fit(X_train,y_train)"
   ]
  },
  {
   "cell_type": "code",
   "execution_count": 166,
   "metadata": {
    "id": "RGXvIPChkkYd"
   },
   "outputs": [],
   "source": [
    "pred_class_train = model.predict(X_train)"
   ]
  },
  {
   "cell_type": "code",
   "execution_count": 167,
   "metadata": {
    "id": "vWDYTMp5kkYe"
   },
   "outputs": [],
   "source": [
    "pred_prob_train = model.predict_proba(X_train)"
   ]
  },
  {
   "cell_type": "code",
   "execution_count": 168,
   "metadata": {
    "colab": {
     "base_uri": "https://localhost:8080/"
    },
    "executionInfo": {
     "elapsed": 10,
     "status": "ok",
     "timestamp": 1653204830190,
     "user": {
      "displayName": "vasundhara bundela",
      "userId": "15799189428647516225"
     },
     "user_tz": -330
    },
    "id": "h09LZolKkkYe",
    "outputId": "22877611-daf1-4fa0-91c0-9217d81f8390"
   },
   "outputs": [
    {
     "data": {
      "text/plain": [
       "0.9709844228804902"
      ]
     },
     "execution_count": 168,
     "metadata": {},
     "output_type": "execute_result"
    }
   ],
   "source": [
    "clf1.score(X_train, y_train)"
   ]
  },
  {
   "cell_type": "code",
   "execution_count": 169,
   "metadata": {
    "colab": {
     "base_uri": "https://localhost:8080/"
    },
    "executionInfo": {
     "elapsed": 7,
     "status": "ok",
     "timestamp": 1653204831031,
     "user": {
      "displayName": "vasundhara bundela",
      "userId": "15799189428647516225"
     },
     "user_tz": -330
    },
    "id": "FZQamQXN3XwX",
    "outputId": "4264594b-f21a-4b5f-d10f-e5ee13e6716e"
   },
   "outputs": [
    {
     "name": "stdout",
     "output_type": "stream",
     "text": [
      "              precision    recall  f1-score   support\n",
      "\n",
      "           0       0.97      1.00      0.99     29730\n",
      "           1       0.94      0.48      0.63      1598\n",
      "\n",
      "    accuracy                           0.97     31328\n",
      "   macro avg       0.96      0.74      0.81     31328\n",
      "weighted avg       0.97      0.97      0.97     31328\n",
      "\n"
     ]
    }
   ],
   "source": [
    "print(classification_report(y_train, ytrain_predict ))"
   ]
  },
  {
   "cell_type": "code",
   "execution_count": 187,
   "metadata": {},
   "outputs": [],
   "source": [
    "y_test_predict = model.predict(X_test)"
   ]
  },
  {
   "cell_type": "code",
   "execution_count": 188,
   "metadata": {
    "executionInfo": {
     "elapsed": 3,
     "status": "ok",
     "timestamp": 1653235745428,
     "user": {
      "displayName": "vasundhara bundela",
      "userId": "15799189428647516225"
     },
     "user_tz": -330
    },
    "id": "T6ISvuciSsYN"
   },
   "outputs": [],
   "source": [
    "Sub['buy'] = y_test_predict"
   ]
  },
  {
   "cell_type": "code",
   "execution_count": 189,
   "metadata": {
    "colab": {
     "base_uri": "https://localhost:8080/",
     "height": 17
    },
    "executionInfo": {
     "elapsed": 659,
     "status": "ok",
     "timestamp": 1653235548458,
     "user": {
      "displayName": "vasundhara bundela",
      "userId": "15799189428647516225"
     },
     "user_tz": -330
    },
    "id": "zZdeNibiTNdM",
    "outputId": "f23e8349-91c9-48d1-d221-86ff716aa0b5"
   },
   "outputs": [],
   "source": [
    "Sub.to_csv('Sub6.csv')\n",
    "\n"
   ]
  },
  {
   "cell_type": "code",
   "execution_count": null,
   "metadata": {},
   "outputs": [],
   "source": []
  },
  {
   "cell_type": "markdown",
   "metadata": {
    "id": "6KJefblcMTMF"
   },
   "source": [
    "# Random Forest"
   ]
  },
  {
   "cell_type": "code",
   "execution_count": 170,
   "metadata": {
    "id": "pCySr6BKkkYe"
   },
   "outputs": [],
   "source": [
    "from sklearn.ensemble import RandomForestClassifier"
   ]
  },
  {
   "cell_type": "code",
   "execution_count": 171,
   "metadata": {
    "id": "0fqp4F1_sSHr"
   },
   "outputs": [],
   "source": [
    "from sklearn.model_selection import GridSearchCV\n",
    "\n",
    "param_grid = {\n",
    "    'max_depth': [5],# [5,7,10],\n",
    "    'max_features':[4],# [4,6],\n",
    "    'min_samples_leaf':[5],# [5,10],\n",
    "    'min_samples_split':[50],# [50,100],\n",
    "    'n_estimators':[100],# [100,200,300]\n",
    "}\n",
    "\n",
    "rfcl = RandomForestClassifier(random_state=0, n_jobs = -1)\n",
    "\n",
    "grid_search = GridSearchCV(estimator = rfcl, param_grid = param_grid, cv = 10)"
   ]
  },
  {
   "cell_type": "code",
   "execution_count": 172,
   "metadata": {
    "colab": {
     "base_uri": "https://localhost:8080/"
    },
    "executionInfo": {
     "elapsed": 541765,
     "status": "ok",
     "timestamp": 1653211781753,
     "user": {
      "displayName": "vasundhara bundela",
      "userId": "15799189428647516225"
     },
     "user_tz": -330
    },
    "id": "jype37QHsY_g",
    "outputId": "8841059b-7104-42e5-c628-b0fcd7f7d208"
   },
   "outputs": [
    {
     "data": {
      "text/plain": [
       "GridSearchCV(cv=10, estimator=RandomForestClassifier(n_jobs=-1, random_state=0),\n",
       "             param_grid={'max_depth': [5], 'max_features': [4],\n",
       "                         'min_samples_leaf': [5], 'min_samples_split': [50],\n",
       "                         'n_estimators': [100]})"
      ]
     },
     "execution_count": 172,
     "metadata": {},
     "output_type": "execute_result"
    }
   ],
   "source": [
    "grid_search.fit(X_train, y_train)"
   ]
  },
  {
   "cell_type": "code",
   "execution_count": 173,
   "metadata": {
    "colab": {
     "base_uri": "https://localhost:8080/"
    },
    "executionInfo": {
     "elapsed": 867,
     "status": "ok",
     "timestamp": 1653211907948,
     "user": {
      "displayName": "vasundhara bundela",
      "userId": "15799189428647516225"
     },
     "user_tz": -330
    },
    "id": "eEJ3AmddskkY",
    "outputId": "f60fd6e4-18ba-4111-f283-7c3460a5700f"
   },
   "outputs": [
    {
     "data": {
      "text/plain": [
       "{'max_depth': 5,\n",
       " 'max_features': 4,\n",
       " 'min_samples_leaf': 5,\n",
       " 'min_samples_split': 50,\n",
       " 'n_estimators': 100}"
      ]
     },
     "execution_count": 173,
     "metadata": {},
     "output_type": "execute_result"
    }
   ],
   "source": [
    "grid_search.best_params_"
   ]
  },
  {
   "cell_type": "code",
   "execution_count": 174,
   "metadata": {
    "id": "9LyF1HGXsojG"
   },
   "outputs": [],
   "source": [
    "best_grid = grid_search.best_estimator_"
   ]
  },
  {
   "cell_type": "code",
   "execution_count": 175,
   "metadata": {
    "colab": {
     "base_uri": "https://localhost:8080/"
    },
    "executionInfo": {
     "elapsed": 7,
     "status": "ok",
     "timestamp": 1653211920049,
     "user": {
      "displayName": "vasundhara bundela",
      "userId": "15799189428647516225"
     },
     "user_tz": -330
    },
    "id": "1ku2cYwnswLM",
    "outputId": "b1e7cb8b-71a4-43e5-fed4-483f61c99d0d"
   },
   "outputs": [
    {
     "data": {
      "text/plain": [
       "RandomForestClassifier(max_depth=5, max_features=4, min_samples_leaf=5,\n",
       "                       min_samples_split=50, n_jobs=-1, random_state=0)"
      ]
     },
     "execution_count": 175,
     "metadata": {},
     "output_type": "execute_result"
    }
   ],
   "source": [
    "best_grid"
   ]
  },
  {
   "cell_type": "code",
   "execution_count": 184,
   "metadata": {
    "id": "qFYBdcr8s0nj"
   },
   "outputs": [],
   "source": [
    "ytrain_predict = best_grid.predict(X_train)\n",
    "yval_predict = best_grid.predict(X_val)\n",
    "y_test_predict = best_grid.predict(X_test)"
   ]
  },
  {
   "cell_type": "code",
   "execution_count": 185,
   "metadata": {
    "executionInfo": {
     "elapsed": 3,
     "status": "ok",
     "timestamp": 1653235745428,
     "user": {
      "displayName": "vasundhara bundela",
      "userId": "15799189428647516225"
     },
     "user_tz": -330
    },
    "id": "T6ISvuciSsYN"
   },
   "outputs": [],
   "source": [
    "Sub['buy'] = y_test_predict"
   ]
  },
  {
   "cell_type": "code",
   "execution_count": 186,
   "metadata": {
    "colab": {
     "base_uri": "https://localhost:8080/",
     "height": 17
    },
    "executionInfo": {
     "elapsed": 659,
     "status": "ok",
     "timestamp": 1653235548458,
     "user": {
      "displayName": "vasundhara bundela",
      "userId": "15799189428647516225"
     },
     "user_tz": -330
    },
    "id": "zZdeNibiTNdM",
    "outputId": "f23e8349-91c9-48d1-d221-86ff716aa0b5"
   },
   "outputs": [],
   "source": [
    "Sub.to_csv('Sub5.csv')\n",
    "\n"
   ]
  },
  {
   "cell_type": "code",
   "execution_count": null,
   "metadata": {},
   "outputs": [],
   "source": []
  },
  {
   "cell_type": "code",
   "execution_count": 177,
   "metadata": {
    "colab": {
     "base_uri": "https://localhost:8080/"
    },
    "executionInfo": {
     "elapsed": 4159,
     "status": "ok",
     "timestamp": 1653157559721,
     "user": {
      "displayName": "vasundhara bundela",
      "userId": "15799189428647516225"
     },
     "user_tz": -330
    },
    "id": "dP5_1237kkYf",
    "outputId": "9cb0c2cd-c6ba-41c9-b255-5723617b7e0f"
   },
   "outputs": [],
   "source": [
    "#rfcl.score(X_train,y_train)"
   ]
  },
  {
   "cell_type": "code",
   "execution_count": 178,
   "metadata": {
    "id": "w2uVvFnikkYf"
   },
   "outputs": [],
   "source": [
    "#ytrain_predict = rfcl.predict(X_train)\n",
    "#ytest_predict = rfcl.predict(X_test)"
   ]
  },
  {
   "cell_type": "code",
   "execution_count": 179,
   "metadata": {
    "colab": {
     "base_uri": "https://localhost:8080/"
    },
    "executionInfo": {
     "elapsed": 567,
     "status": "ok",
     "timestamp": 1653212203768,
     "user": {
      "displayName": "vasundhara bundela",
      "userId": "15799189428647516225"
     },
     "user_tz": -330
    },
    "id": "PujPFIaU3jhz",
    "outputId": "19de0a3b-13a4-4393-b94c-6a82231bfe6a"
   },
   "outputs": [
    {
     "name": "stdout",
     "output_type": "stream",
     "text": [
      "              precision    recall  f1-score   support\n",
      "\n",
      "           0       0.98      1.00      0.99     29730\n",
      "           1       0.95      0.53      0.68      1598\n",
      "\n",
      "    accuracy                           0.97     31328\n",
      "   macro avg       0.96      0.77      0.83     31328\n",
      "weighted avg       0.97      0.97      0.97     31328\n",
      "\n"
     ]
    }
   ],
   "source": [
    "print(classification_report(y_train, ytrain_predict ))"
   ]
  },
  {
   "cell_type": "code",
   "execution_count": 180,
   "metadata": {},
   "outputs": [
    {
     "name": "stdout",
     "output_type": "stream",
     "text": [
      "              precision    recall  f1-score   support\n",
      "\n",
      "           0       0.97      1.00      0.99      7433\n",
      "           1       0.97      0.51      0.66       400\n",
      "\n",
      "    accuracy                           0.97      7833\n",
      "   macro avg       0.97      0.75      0.83      7833\n",
      "weighted avg       0.97      0.97      0.97      7833\n",
      "\n"
     ]
    }
   ],
   "source": [
    "print(classification_report(y_val, yval_predict ))"
   ]
  },
  {
   "cell_type": "markdown",
   "metadata": {},
   "source": [
    "# Gradient Boosting"
   ]
  },
  {
   "cell_type": "code",
   "execution_count": 190,
   "metadata": {},
   "outputs": [],
   "source": [
    "\n",
    "from sklearn.ensemble import AdaBoostClassifier, GradientBoostingClassifier"
   ]
  },
  {
   "cell_type": "code",
   "execution_count": 191,
   "metadata": {},
   "outputs": [
    {
     "data": {
      "text/plain": [
       "GradientBoostingClassifier(init=AdaBoostClassifier(random_state=1),\n",
       "                           random_state=1)"
      ]
     },
     "execution_count": 191,
     "metadata": {},
     "output_type": "execute_result"
    }
   ],
   "source": [
    "gbc_init = GradientBoostingClassifier(init=AdaBoostClassifier(random_state=1),random_state=1)\n",
    "gbc_init.fit(X_train,y_train)"
   ]
  },
  {
   "cell_type": "code",
   "execution_count": 193,
   "metadata": {},
   "outputs": [],
   "source": [
    " pred_train = gbc_init.predict(X_train)"
   ]
  },
  {
   "cell_type": "code",
   "execution_count": 196,
   "metadata": {},
   "outputs": [
    {
     "name": "stdout",
     "output_type": "stream",
     "text": [
      "              precision    recall  f1-score   support\n",
      "\n",
      "           0       0.98      1.00      0.99     29730\n",
      "           1       0.95      0.55      0.70      1598\n",
      "\n",
      "    accuracy                           0.98     31328\n",
      "   macro avg       0.97      0.77      0.84     31328\n",
      "weighted avg       0.98      0.98      0.97     31328\n",
      "\n"
     ]
    }
   ],
   "source": [
    "print(classification_report(y_train, pred_train ))"
   ]
  },
  {
   "cell_type": "code",
   "execution_count": 197,
   "metadata": {},
   "outputs": [],
   "source": [
    "yval_predict = gbc_init.predict(X_val)"
   ]
  },
  {
   "cell_type": "code",
   "execution_count": 198,
   "metadata": {},
   "outputs": [
    {
     "name": "stdout",
     "output_type": "stream",
     "text": [
      "              precision    recall  f1-score   support\n",
      "\n",
      "           0       0.97      1.00      0.99      7433\n",
      "           1       0.97      0.51      0.67       400\n",
      "\n",
      "    accuracy                           0.97      7833\n",
      "   macro avg       0.97      0.76      0.83      7833\n",
      "weighted avg       0.97      0.97      0.97      7833\n",
      "\n"
     ]
    }
   ],
   "source": [
    "print(classification_report(y_val, yval_predict ))"
   ]
  },
  {
   "cell_type": "code",
   "execution_count": 199,
   "metadata": {
    "id": "qFYBdcr8s0nj"
   },
   "outputs": [],
   "source": [
    "\n",
    "y_test_predict = gbc_init.predict(X_test)"
   ]
  },
  {
   "cell_type": "code",
   "execution_count": 200,
   "metadata": {
    "executionInfo": {
     "elapsed": 3,
     "status": "ok",
     "timestamp": 1653235745428,
     "user": {
      "displayName": "vasundhara bundela",
      "userId": "15799189428647516225"
     },
     "user_tz": -330
    },
    "id": "T6ISvuciSsYN"
   },
   "outputs": [],
   "source": [
    "Sub['buy'] = y_test_predict"
   ]
  },
  {
   "cell_type": "code",
   "execution_count": 201,
   "metadata": {
    "colab": {
     "base_uri": "https://localhost:8080/",
     "height": 17
    },
    "executionInfo": {
     "elapsed": 659,
     "status": "ok",
     "timestamp": 1653235548458,
     "user": {
      "displayName": "vasundhara bundela",
      "userId": "15799189428647516225"
     },
     "user_tz": -330
    },
    "id": "zZdeNibiTNdM",
    "outputId": "f23e8349-91c9-48d1-d221-86ff716aa0b5"
   },
   "outputs": [],
   "source": [
    "Sub.to_csv('Sub7.csv')\n",
    "\n"
   ]
  },
  {
   "cell_type": "code",
   "execution_count": 250,
   "metadata": {},
   "outputs": [],
   "source": [
    "param_grid = {\n",
    "    'min_samples_leaf':[4],#[4,10,20],\n",
    "    'min_samples_split':[1000],# [5,10,1000],\n",
    "    'subsample':[0.8,1],\n",
    "    \"n_estimators\":[50],#[5,50,250,500],\n",
    "    \"max_depth\":[5],#[1,3,5,7,9],\n",
    "    \"learning_rate\":[0.1]#[0.01,0.1,1,10,100]\n",
    "}\n",
    "\n",
    "GB = GradientBoostingClassifier(random_state=0)\n",
    "\n",
    "grid_search_GB = GridSearchCV(estimator = GB, param_grid = param_grid, cv = 4,  n_jobs = 2, verbose = 1)"
   ]
  },
  {
   "cell_type": "code",
   "execution_count": 251,
   "metadata": {},
   "outputs": [
    {
     "name": "stdout",
     "output_type": "stream",
     "text": [
      "Fitting 4 folds for each of 2 candidates, totalling 8 fits\n"
     ]
    },
    {
     "data": {
      "text/plain": [
       "GridSearchCV(cv=4, estimator=GradientBoostingClassifier(random_state=0),\n",
       "             n_jobs=2,\n",
       "             param_grid={'learning_rate': [0.1], 'max_depth': [5],\n",
       "                         'min_samples_leaf': [4], 'min_samples_split': [1000],\n",
       "                         'n_estimators': [50], 'subsample': [0.8, 1]},\n",
       "             verbose=1)"
      ]
     },
     "execution_count": 251,
     "metadata": {},
     "output_type": "execute_result"
    }
   ],
   "source": [
    "grid_search_GB.fit(X_train, y_train)"
   ]
  },
  {
   "cell_type": "code",
   "execution_count": 255,
   "metadata": {},
   "outputs": [
    {
     "data": {
      "text/plain": [
       "{'learning_rate': 0.1,\n",
       " 'max_depth': 5,\n",
       " 'min_samples_leaf': 4,\n",
       " 'min_samples_split': 1000,\n",
       " 'n_estimators': 50,\n",
       " 'subsample': 0.8}"
      ]
     },
     "execution_count": 255,
     "metadata": {},
     "output_type": "execute_result"
    }
   ],
   "source": [
    "grid_search_GB.best_params_"
   ]
  },
  {
   "cell_type": "code",
   "execution_count": 256,
   "metadata": {},
   "outputs": [],
   "source": [
    "best_grid_GB = grid_search_GB.best_estimator_"
   ]
  },
  {
   "cell_type": "code",
   "execution_count": 258,
   "metadata": {},
   "outputs": [],
   "source": [
    "y_train_predict= best_grid_GB.predict(X_train)"
   ]
  },
  {
   "cell_type": "code",
   "execution_count": 259,
   "metadata": {},
   "outputs": [
    {
     "name": "stdout",
     "output_type": "stream",
     "text": [
      "              precision    recall  f1-score   support\n",
      "\n",
      "           0       0.98      1.00      0.99     29730\n",
      "           1       0.95      0.55      0.69      1598\n",
      "\n",
      "    accuracy                           0.98     31328\n",
      "   macro avg       0.96      0.77      0.84     31328\n",
      "weighted avg       0.97      0.98      0.97     31328\n",
      "\n"
     ]
    }
   ],
   "source": [
    "print(classification_report(y_train, y_train_predict ))"
   ]
  },
  {
   "cell_type": "code",
   "execution_count": 219,
   "metadata": {},
   "outputs": [],
   "source": [
    "from imblearn.over_sampling import RandomOverSampler"
   ]
  },
  {
   "cell_type": "code",
   "execution_count": 224,
   "metadata": {},
   "outputs": [],
   "source": [
    "# define oversampling strategy\n",
    "oversample = RandomOverSampler(sampling_strategy='minority')\n",
    "# fit and apply the transform\n",
    "X_over, y_over = oversample.fit_resample(X_train, y_train)"
   ]
  },
  {
   "cell_type": "code",
   "execution_count": 225,
   "metadata": {},
   "outputs": [
    {
     "data": {
      "text/plain": [
       "GradientBoostingClassifier(init=AdaBoostClassifier(random_state=1),\n",
       "                           random_state=1)"
      ]
     },
     "execution_count": 225,
     "metadata": {},
     "output_type": "execute_result"
    }
   ],
   "source": [
    "gbc_init.fit(X_over, y_over)"
   ]
  },
  {
   "cell_type": "code",
   "execution_count": 226,
   "metadata": {},
   "outputs": [],
   "source": [
    " pred_train = gbc_init.predict(X_over)"
   ]
  },
  {
   "cell_type": "code",
   "execution_count": 227,
   "metadata": {},
   "outputs": [
    {
     "name": "stdout",
     "output_type": "stream",
     "text": [
      "              precision    recall  f1-score   support\n",
      "\n",
      "           0       0.83      0.88      0.85     29730\n",
      "           1       0.87      0.83      0.85     29730\n",
      "\n",
      "    accuracy                           0.85     59460\n",
      "   macro avg       0.85      0.85      0.85     59460\n",
      "weighted avg       0.85      0.85      0.85     59460\n",
      "\n"
     ]
    }
   ],
   "source": [
    "print(classification_report(y_over, pred_train ))"
   ]
  },
  {
   "cell_type": "code",
   "execution_count": 228,
   "metadata": {
    "id": "qFYBdcr8s0nj"
   },
   "outputs": [],
   "source": [
    "\n",
    "y_test_predict = gbc_init.predict(X_test)"
   ]
  },
  {
   "cell_type": "code",
   "execution_count": 231,
   "metadata": {
    "executionInfo": {
     "elapsed": 3,
     "status": "ok",
     "timestamp": 1653235745428,
     "user": {
      "displayName": "vasundhara bundela",
      "userId": "15799189428647516225"
     },
     "user_tz": -330
    },
    "id": "T6ISvuciSsYN"
   },
   "outputs": [],
   "source": [
    "Sub['buy'] = y_test_predict"
   ]
  },
  {
   "cell_type": "code",
   "execution_count": 232,
   "metadata": {
    "colab": {
     "base_uri": "https://localhost:8080/",
     "height": 17
    },
    "executionInfo": {
     "elapsed": 659,
     "status": "ok",
     "timestamp": 1653235548458,
     "user": {
      "displayName": "vasundhara bundela",
      "userId": "15799189428647516225"
     },
     "user_tz": -330
    },
    "id": "zZdeNibiTNdM",
    "outputId": "f23e8349-91c9-48d1-d221-86ff716aa0b5"
   },
   "outputs": [],
   "source": [
    "Sub.to_csv('Sub9.csv')\n",
    "\n"
   ]
  },
  {
   "cell_type": "code",
   "execution_count": 233,
   "metadata": {},
   "outputs": [],
   "source": [
    "yval_predict = gbc_init.predict(X_val)"
   ]
  },
  {
   "cell_type": "code",
   "execution_count": 234,
   "metadata": {},
   "outputs": [
    {
     "name": "stdout",
     "output_type": "stream",
     "text": [
      "              precision    recall  f1-score   support\n",
      "\n",
      "           0       0.99      0.87      0.92      7433\n",
      "           1       0.25      0.80      0.38       400\n",
      "\n",
      "    accuracy                           0.87      7833\n",
      "   macro avg       0.62      0.83      0.65      7833\n",
      "weighted avg       0.95      0.87      0.90      7833\n",
      "\n"
     ]
    }
   ],
   "source": [
    "print(classification_report(y_val, yval_predict ))"
   ]
  },
  {
   "cell_type": "code",
   "execution_count": null,
   "metadata": {},
   "outputs": [],
   "source": []
  },
  {
   "cell_type": "markdown",
   "metadata": {},
   "source": [
    "# Ada Boosting"
   ]
  },
  {
   "cell_type": "code",
   "execution_count": 203,
   "metadata": {},
   "outputs": [
    {
     "data": {
      "text/plain": [
       "AdaBoostClassifier(random_state=1)"
      ]
     },
     "execution_count": 203,
     "metadata": {},
     "output_type": "execute_result"
    }
   ],
   "source": [
    "abc = AdaBoostClassifier(random_state=1)\n",
    "abc.fit(X_train,y_train)"
   ]
  },
  {
   "cell_type": "code",
   "execution_count": 204,
   "metadata": {},
   "outputs": [],
   "source": [
    " pred_train = abc.predict(X_train)"
   ]
  },
  {
   "cell_type": "code",
   "execution_count": 205,
   "metadata": {},
   "outputs": [
    {
     "name": "stdout",
     "output_type": "stream",
     "text": [
      "              precision    recall  f1-score   support\n",
      "\n",
      "           0       0.98      1.00      0.99     29730\n",
      "           1       0.95      0.55      0.69      1598\n",
      "\n",
      "    accuracy                           0.98     31328\n",
      "   macro avg       0.96      0.77      0.84     31328\n",
      "weighted avg       0.97      0.98      0.97     31328\n",
      "\n"
     ]
    }
   ],
   "source": [
    "print(classification_report(y_train, pred_train ))"
   ]
  },
  {
   "cell_type": "code",
   "execution_count": 206,
   "metadata": {},
   "outputs": [],
   "source": [
    "yval_predict = abc.predict(X_val)"
   ]
  },
  {
   "cell_type": "code",
   "execution_count": 207,
   "metadata": {},
   "outputs": [
    {
     "name": "stdout",
     "output_type": "stream",
     "text": [
      "              precision    recall  f1-score   support\n",
      "\n",
      "           0       0.97      1.00      0.99      7433\n",
      "           1       0.97      0.52      0.67       400\n",
      "\n",
      "    accuracy                           0.97      7833\n",
      "   macro avg       0.97      0.76      0.83      7833\n",
      "weighted avg       0.97      0.97      0.97      7833\n",
      "\n"
     ]
    }
   ],
   "source": [
    "print(classification_report(y_val, yval_predict ))"
   ]
  },
  {
   "cell_type": "code",
   "execution_count": 208,
   "metadata": {
    "id": "qFYBdcr8s0nj"
   },
   "outputs": [],
   "source": [
    "\n",
    "y_test_predict = abc.predict(X_test)"
   ]
  },
  {
   "cell_type": "code",
   "execution_count": 209,
   "metadata": {
    "executionInfo": {
     "elapsed": 3,
     "status": "ok",
     "timestamp": 1653235745428,
     "user": {
      "displayName": "vasundhara bundela",
      "userId": "15799189428647516225"
     },
     "user_tz": -330
    },
    "id": "T6ISvuciSsYN"
   },
   "outputs": [],
   "source": [
    "Sub['buy'] = y_test_predict"
   ]
  },
  {
   "cell_type": "code",
   "execution_count": 210,
   "metadata": {
    "colab": {
     "base_uri": "https://localhost:8080/",
     "height": 17
    },
    "executionInfo": {
     "elapsed": 659,
     "status": "ok",
     "timestamp": 1653235548458,
     "user": {
      "displayName": "vasundhara bundela",
      "userId": "15799189428647516225"
     },
     "user_tz": -330
    },
    "id": "zZdeNibiTNdM",
    "outputId": "f23e8349-91c9-48d1-d221-86ff716aa0b5"
   },
   "outputs": [],
   "source": [
    "Sub.to_csv('Sub8.csv')\n",
    "\n"
   ]
  },
  {
   "cell_type": "code",
   "execution_count": null,
   "metadata": {},
   "outputs": [],
   "source": []
  }
 ],
 "metadata": {
  "kernelspec": {
   "display_name": "Python 3",
   "language": "python",
   "name": "python3"
  },
  "language_info": {
   "codemirror_mode": {
    "name": "ipython",
    "version": 3
   },
   "file_extension": ".py",
   "mimetype": "text/x-python",
   "name": "python",
   "nbconvert_exporter": "python",
   "pygments_lexer": "ipython3",
   "version": "3.8.5"
  }
 },
 "nbformat": 4,
 "nbformat_minor": 4
}
